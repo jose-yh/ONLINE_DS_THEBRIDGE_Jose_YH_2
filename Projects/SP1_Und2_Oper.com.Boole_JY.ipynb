{
 "cells": [
  {
   "cell_type": "code",
   "execution_count": null,
   "id": "d85f5d82-e842-4387-a734-a40fceb106a2",
   "metadata": {},
   "outputs": [],
   "source": [
    "# Primero, calculamos el valor de estas condiciones por separado\n",
    "# para el primer ordenador"
   ]
  },
  {
   "cell_type": "code",
   "execution_count": 6,
   "id": "ca92c87a-8cb0-431f-9087-4eea7b6f8338",
   "metadata": {},
   "outputs": [],
   "source": [
    "# Primer ordenador\n",
    "ram1 = 32\n",
    "process1 = \"i5\"\n",
    "disco1 =500\n",
    "precio1 = 850\n",
    "\n",
    "# Segundo ordenador\n",
    "ram2 = 8\n",
    "process2 = \"i5\"\n",
    "disco2 = 500\n",
    "precio2 = 600\n",
    "\n",
    "# Tercer ordenador\n",
    "ram3 = 32\n",
    "process3 = \"i3\"\n",
    "disco3 = 500\n",
    "precio3 = 780\n"
   ]
  },
  {
   "cell_type": "code",
   "execution_count": 7,
   "id": "34b59817-040e-49da-ac32-085a4ed39e97",
   "metadata": {},
   "outputs": [
    {
     "name": "stdout",
     "output_type": "stream",
     "text": [
      "False True False False\n"
     ]
    }
   ],
   "source": [
    "cond_ram1 = (ram1 == 16 or ram1 == 32 or ram1 == 64)  # OR -> Me vale con cualquier resultado a True \n",
    "cond_process1 = (process1 == \"i3\" and disco1 == 500)  # AND -> Obliga a todas las condiciones deben ser True\n",
    "cond_precio1 = (precio1 < 800)\n",
    "cond_total1 = cond_ram1 and cond_process1 and cond_precio1\n",
    "print(cond_total1, cond_ram1, cond_process1, cond_precio1)"
   ]
  },
  {
   "cell_type": "code",
   "execution_count": null,
   "id": "977aa13b-b8ff-4753-9e29-e2dc095018eb",
   "metadata": {},
   "outputs": [],
   "source": [
    "# El primer ordenador cumple el requisito del ram, pero no los de precio y procesador7disco.\n",
    "# Veamos los otros dos si los cumple"
   ]
  },
  {
   "cell_type": "code",
   "execution_count": 8,
   "id": "c9c0a9f1-5715-4194-926c-9fdb59ec54f8",
   "metadata": {},
   "outputs": [
    {
     "name": "stdout",
     "output_type": "stream",
     "text": [
      "False False True False\n"
     ]
    }
   ],
   "source": [
    "# Calculamos las condisiones para los otros dos ordenadores\n",
    "# Segundo ordenador\n",
    "cond_ram2 = (ram2 == 16 or ram2 == 32 or ram2 == 64)  # OR -> Me vale con cualquier resultado a True \n",
    "cond_process2 = (process2 == \"i5\" and disco2 == 500)  # AND -> Obliga a todas las condiciones deben ser True\n",
    "cond_precio2 = (precio2 < 600)\n",
    "cond_total2 = cond_ram2 and cond_process2 and cond_precio2\n",
    "print(cond_total2, cond_ram2, cond_process2, cond_precio2)\n"
   ]
  },
  {
   "cell_type": "code",
   "execution_count": null,
   "id": "4deffbc3-2cbb-49a2-aaca-ff50bc8b4c78",
   "metadata": {},
   "outputs": [],
   "source": []
  }
 ],
 "metadata": {
  "kernelspec": {
   "display_name": "Python 3 (ipykernel)",
   "language": "python",
   "name": "python3"
  },
  "language_info": {
   "codemirror_mode": {
    "name": "ipython",
    "version": 3
   },
   "file_extension": ".py",
   "mimetype": "text/x-python",
   "name": "python",
   "nbconvert_exporter": "python",
   "pygments_lexer": "ipython3",
   "version": "3.13.0"
  }
 },
 "nbformat": 4,
 "nbformat_minor": 5
}
