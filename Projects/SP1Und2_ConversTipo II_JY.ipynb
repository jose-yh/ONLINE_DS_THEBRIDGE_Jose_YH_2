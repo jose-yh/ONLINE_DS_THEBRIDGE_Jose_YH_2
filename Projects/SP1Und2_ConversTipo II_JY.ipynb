{
 "cells": [
  {
   "cell_type": "code",
   "execution_count": 1,
   "id": "22f0babe-39cd-4047-8f7a-c9f4e470715e",
   "metadata": {},
   "outputs": [
    {
     "ename": "ValueError",
     "evalue": "could not convert string to float: '68,34'",
     "output_type": "error",
     "traceback": [
      "\u001b[1;31m---------------------------------------------------------------------------\u001b[0m",
      "\u001b[1;31mValueError\u001b[0m                                Traceback (most recent call last)",
      "Cell \u001b[1;32mIn[1], line 2\u001b[0m\n\u001b[0;32m      1\u001b[0m real_str \u001b[38;5;241m=\u001b[39m \u001b[38;5;124m\"\u001b[39m\u001b[38;5;124m68,34\u001b[39m\u001b[38;5;124m\"\u001b[39m\n\u001b[1;32m----> 2\u001b[0m real \u001b[38;5;241m=\u001b[39m \u001b[38;5;28;43mfloat\u001b[39;49m\u001b[43m(\u001b[49m\u001b[43mreal_str\u001b[49m\u001b[43m)\u001b[49m\n",
      "\u001b[1;31mValueError\u001b[0m: could not convert string to float: '68,34'"
     ]
    }
   ],
   "source": [
    "# No se puede convertir de string a float, dará error\n",
    "real_str = \"68,34\"\n",
    "real = float(real_str)"
   ]
  },
  {
   "cell_type": "code",
   "execution_count": 2,
   "id": "80da03c6-801a-465c-a425-6c439fe4fd06",
   "metadata": {},
   "outputs": [
    {
     "data": {
      "text/plain": [
       "'68.34'"
      ]
     },
     "execution_count": 2,
     "metadata": {},
     "output_type": "execute_result"
    }
   ],
   "source": [
    "# Por lo tanto, vamos a recurrir al comando (.replace())\n",
    "real_str.replace(\",\",\".\")    # Este .replace() se aplicará solo a la variable real_str convirtiendo las comas por los puntos"
   ]
  },
  {
   "cell_type": "code",
   "execution_count": 4,
   "id": "bc6d215e-ca40-43af-a51b-c7065211bdad",
   "metadata": {},
   "outputs": [
    {
     "name": "stdout",
     "output_type": "stream",
     "text": [
      "<class 'str'>\n"
     ]
    }
   ],
   "source": [
    "nuevo_str = real_str.replace(\",\",\".\") # Nos convertira a <class 'str'>\n",
    "print(type(nuevo_str))"
   ]
  },
  {
   "cell_type": "code",
   "execution_count": 5,
   "id": "7514c097-3466-476d-a122-65529406f571",
   "metadata": {},
   "outputs": [
    {
     "name": "stdout",
     "output_type": "stream",
     "text": [
      "68.34 <class 'float'>\n"
     ]
    }
   ],
   "source": [
    "# Ahora podemos hacer el cambio de tipo\n",
    "real = float(nuevo_str)\n",
    "print(real, type(real))"
   ]
  },
  {
   "cell_type": "code",
   "execution_count": 6,
   "id": "d631f66e-aabe-446e-86a1-f01473640e39",
   "metadata": {},
   "outputs": [
    {
     "name": "stdin",
     "output_type": "stream",
     "text": [
      "Escribeme algo mi arma 98\n"
     ]
    }
   ],
   "source": [
    "# Comando (input())\n",
    "primer_input = input(\"Escribeme algo mi arma\")"
   ]
  },
  {
   "cell_type": "code",
   "execution_count": 7,
   "id": "4338e612-b586-44e7-9d47-f9f1b4a046a7",
   "metadata": {},
   "outputs": [
    {
     "name": "stdout",
     "output_type": "stream",
     "text": [
      "98\n"
     ]
    }
   ],
   "source": [
    "print(primer_input)"
   ]
  },
  {
   "cell_type": "code",
   "execution_count": 9,
   "id": "08a9256c-31a4-47d5-8370-e2933d5ba554",
   "metadata": {},
   "outputs": [
    {
     "data": {
      "text/plain": [
       "str"
      ]
     },
     "execution_count": 9,
     "metadata": {},
     "output_type": "execute_result"
    }
   ],
   "source": [
    "type(primer_input)"
   ]
  },
  {
   "cell_type": "code",
   "execution_count": null,
   "id": "a7e7cd6f-633b-4ecc-bbab-6a21432a2a5b",
   "metadata": {},
   "outputs": [
    {
     "name": "stdin",
     "output_type": "stream",
     "text": [
      "¿Cómo te llamas alma cándida de Dios? José\n"
     ]
    },
    {
     "name": "stdout",
     "output_type": "stream",
     "text": [
      "Encantado de conocerte José\n"
     ]
    }
   ],
   "source": [
    "nombre = input(\"¿Cómo te llamas alma cándida de Dios?\")\n",
    "print(\"Encantado de conocerte\", nombre)\n",
    "preferencias = input(\"Y, ¿qué te parece este mágnifico vídeo?\")\n",
    "print(\"Coincido\")"
   ]
  },
  {
   "cell_type": "code",
   "execution_count": 11,
   "id": "8ee6abf5-097f-4e31-bba1-639d2903f7f3",
   "metadata": {},
   "outputs": [
    {
     "name": "stdout",
     "output_type": "stream",
     "text": [
      "None\n"
     ]
    }
   ],
   "source": [
    "# Comando (None())\n",
    "print(None)"
   ]
  },
  {
   "cell_type": "code",
   "execution_count": 12,
   "id": "ee055a5e-28d6-415c-afe8-1d6ccd6a749f",
   "metadata": {},
   "outputs": [
    {
     "name": "stdout",
     "output_type": "stream",
     "text": [
      "<class 'NoneType'>\n"
     ]
    }
   ],
   "source": [
    "print(type(None))"
   ]
  },
  {
   "cell_type": "code",
   "execution_count": 13,
   "id": "b40a6cee-bb52-4b90-81b4-7f72863ecb94",
   "metadata": {},
   "outputs": [
    {
     "data": {
      "text/plain": [
       "False"
      ]
     },
     "execution_count": 13,
     "metadata": {},
     "output_type": "execute_result"
    }
   ],
   "source": [
    "\"\" == None"
   ]
  },
  {
   "cell_type": "code",
   "execution_count": 14,
   "id": "88d3f7df-f12f-4bc6-be51-06a7a3a16fda",
   "metadata": {},
   "outputs": [
    {
     "data": {
      "text/plain": [
       "False"
      ]
     },
     "execution_count": 14,
     "metadata": {},
     "output_type": "execute_result"
    }
   ],
   "source": [
    "0 == None"
   ]
  },
  {
   "cell_type": "code",
   "execution_count": null,
   "id": "962d8c5a-6475-4599-aa33-6bedb2ef8f6d",
   "metadata": {},
   "outputs": [],
   "source": []
  }
 ],
 "metadata": {
  "kernelspec": {
   "display_name": "Python 3 (ipykernel)",
   "language": "python",
   "name": "python3"
  },
  "language_info": {
   "codemirror_mode": {
    "name": "ipython",
    "version": 3
   },
   "file_extension": ".py",
   "mimetype": "text/x-python",
   "name": "python",
   "nbconvert_exporter": "python",
   "pygments_lexer": "ipython3",
   "version": "3.13.0"
  }
 },
 "nbformat": 4,
 "nbformat_minor": 5
}
