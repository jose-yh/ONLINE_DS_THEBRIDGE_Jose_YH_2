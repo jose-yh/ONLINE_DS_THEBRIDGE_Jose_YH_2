{
 "cells": [
  {
   "cell_type": "code",
   "execution_count": 1,
   "id": "4dad6b33-aade-4e53-8274-6b781be99112",
   "metadata": {},
   "outputs": [
    {
     "name": "stdout",
     "output_type": "stream",
     "text": [
      "STRING EN MINUSCULAS\n"
     ]
    }
   ],
   "source": [
    "# Métodos con las variables de tipo string\n",
    "string_ejemplo = \"string en minusculas\"\n",
    "\n",
    "# Metodo para poner un string todo en mayúsculas\n",
    "print(string_ejemplo.upper())"
   ]
  },
  {
   "cell_type": "code",
   "execution_count": 2,
   "id": "9917a2ec-1d2e-4152-8a7e-b67f16c0694f",
   "metadata": {},
   "outputs": [
    {
     "name": "stdout",
     "output_type": "stream",
     "text": [
      "STRING EN MINUSCULAS\n"
     ]
    },
    {
     "data": {
      "text/plain": [
       "'string en minusculas'"
      ]
     },
     "execution_count": 2,
     "metadata": {},
     "output_type": "execute_result"
    }
   ],
   "source": [
    "# Métodos con las variables de tipo string\n",
    "string_ejemplo = \"string en minusculas\"\n",
    "\n",
    "# Metodo para poner un string todo en mayúsculas\n",
    "print(string_ejemplo.upper())\n",
    "string_ejemplo  # Observa que no ha cambiado la variable sigue estando en minusculas"
   ]
  },
  {
   "cell_type": "code",
   "execution_count": 5,
   "id": "c7598234-cb01-4fde-8ecb-8129aab4e1d0",
   "metadata": {},
   "outputs": [
    {
     "name": "stdout",
     "output_type": "stream",
     "text": [
      "esto es un ejemplo diferente\n",
      "esto es un ejemplo diferente_2\n"
     ]
    }
   ],
   "source": [
    "# Metodo para poner un string todo en minúsculas\n",
    "print(\"ESTO ES UN EJEMPLO DIFERENTE\".lower())\n",
    "\n",
    "# Otro ejemplo\n",
    "string_ejemplo_2 = \"ESTO ES UN EJEMPLO DIFERENTE_2\"\n",
    "print(string_ejemplo_2.lower())\n"
   ]
  },
  {
   "cell_type": "code",
   "execution_count": 9,
   "id": "2b1368c1-4dc9-4ba4-a1df-4b8f88957fd3",
   "metadata": {},
   "outputs": [
    {
     "name": "stdout",
     "output_type": "stream",
     "text": [
      "ctring en minucculac\n",
      "string en mayúsculas\n",
      "tring en minucula\n"
     ]
    }
   ],
   "source": [
    "# Método para reemplazar algún carácter o varios\n",
    "print(string_ejemplo.replace(\"s\",\"c\"))\n",
    "print(string_ejemplo.replace(\"minusculas\", \"mayúsculas\"))  # Esta operación cambia una palabra completa\n",
    "print(string_ejemplo.replace(\"s\", \"\"))  # Esta operación reemplazará las \"S\" por nada, las quitará"
   ]
  },
  {
   "cell_type": "code",
   "execution_count": 10,
   "id": "fec31ee3-4ce1-4053-8b7c-4fc1ac8d5deb",
   "metadata": {},
   "outputs": [
    {
     "name": "stdout",
     "output_type": "stream",
     "text": [
      "['Esto', 'se', 'va', 'a', 'convertir', 'en', 'una', 'lista', 'de', 'strings']\n"
     ]
    }
   ],
   "source": [
    "# Método para convertir un string en una lista. Una lista es una colección de objetos ordenados\n",
    "print(\"Esto se va a convertir en una lista de strings\".split()) # Estará entre corchetes porque es una lista.\n",
    "# Se obtiene al valor total (\"Esto...\"), no a una variable, no hay nada entre los paréntesis split()."
   ]
  },
  {
   "cell_type": "code",
   "execution_count": 11,
   "id": "39225266-dd78-4af0-9640-75372f1e0a8b",
   "metadata": {},
   "outputs": [
    {
     "name": "stdout",
     "output_type": "stream",
     "text": [
      "['Esto', 'se', 'va', 'a', 'convertir', 'en', 'una', 'lista', 'de', 'strings']\n"
     ]
    }
   ],
   "source": [
    "# Método para convertir un string en una lista. Una lista es una colección de objetos ordenados\n",
    "print(\"Esto se va a convertir en una lista de strings\".split(\" \"))"
   ]
  },
  {
   "cell_type": "code",
   "execution_count": 12,
   "id": "a0c6742f-c862-4730-8c1b-6a197f5e9181",
   "metadata": {},
   "outputs": [
    {
     "name": "stdout",
     "output_type": "stream",
     "text": [
      "['Esto se va a ', ' en una lista de strings']\n"
     ]
    }
   ],
   "source": [
    "# Método para convertir un string en una lista. Una lista es una colección de objetos ordenados\n",
    "print(\"Esto se va a convertir en una lista de strings\".split(\"convertir\"))"
   ]
  },
  {
   "cell_type": "code",
   "execution_count": 14,
   "id": "4574ce0c-cea2-450b-a37f-94ecf835f81f",
   "metadata": {},
   "outputs": [
    {
     "name": "stdout",
     "output_type": "stream",
     "text": [
      "10\n"
     ]
    }
   ],
   "source": [
    "# Método para conocer la posición dentro de un string\n",
    "print(string_ejemplo.index(\"m\"))  # Aquí cuenta siempre desde CERO hasta m en \"string en m...) -> string_ejemplo = \"string en minusculas\""
   ]
  },
  {
   "cell_type": "code",
   "execution_count": null,
   "id": "ec201032-2ee0-4e74-97af-59e533ce825f",
   "metadata": {},
   "outputs": [],
   "source": [
    "# Los errores más tipicos en los métodos\n",
    "# Cuando un método necesita ciertos argumentos, y no se los proporcionamos\n",
    "string_ejemplo.replace()  # Esperaba que le colocaramos dos argumentos. Replace necesita el viejo y el nuevo argumento\n",
    "# se puede colocar un solo argumento -> string_ejemplo.replace(\",\") "
   ]
  },
  {
   "cell_type": "code",
   "execution_count": null,
   "id": "98c3da05-e07c-403f-a66b-73ec36601bfa",
   "metadata": {},
   "outputs": [],
   "source": []
  }
 ],
 "metadata": {
  "kernelspec": {
   "display_name": "Python 3 (ipykernel)",
   "language": "python",
   "name": "python3"
  },
  "language_info": {
   "codemirror_mode": {
    "name": "ipython",
    "version": 3
   },
   "file_extension": ".py",
   "mimetype": "text/x-python",
   "name": "python",
   "nbconvert_exporter": "python",
   "pygments_lexer": "ipython3",
   "version": "3.13.0"
  }
 },
 "nbformat": 4,
 "nbformat_minor": 5
}
