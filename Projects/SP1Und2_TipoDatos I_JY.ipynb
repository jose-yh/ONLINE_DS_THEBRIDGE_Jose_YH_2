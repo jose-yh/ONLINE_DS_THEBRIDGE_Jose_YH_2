{
 "cells": [
  {
   "cell_type": "code",
   "execution_count": 1,
   "id": "20a3658b-6e97-425e-93f5-8e3816c2275a",
   "metadata": {},
   "outputs": [
    {
     "data": {
      "text/plain": [
       "int"
      ]
     },
     "execution_count": 1,
     "metadata": {},
     "output_type": "execute_result"
    }
   ],
   "source": [
    "numero = 22\n",
    "type(numero)"
   ]
  },
  {
   "cell_type": "code",
   "execution_count": 2,
   "id": "7f9992f0-e4ae-4088-809e-cf90233d4cd1",
   "metadata": {},
   "outputs": [
    {
     "name": "stdout",
     "output_type": "stream",
     "text": [
      "<class 'float'>\n"
     ]
    }
   ],
   "source": [
    "numero_real = 22.0\n",
    "print(type(numero_real))"
   ]
  },
  {
   "cell_type": "code",
   "execution_count": 4,
   "id": "a034152b-6cb4-466e-a76d-36d4fc21b3cb",
   "metadata": {},
   "outputs": [
    {
     "data": {
      "text/plain": [
       "float"
      ]
     },
     "execution_count": 4,
     "metadata": {},
     "output_type": "execute_result"
    }
   ],
   "source": [
    "numero_real_decimales = 22.45123\n",
    "type(numero_real_decimales)"
   ]
  },
  {
   "cell_type": "code",
   "execution_count": 7,
   "id": "742032f3-b3d7-450a-b163-63b368ee4250",
   "metadata": {},
   "outputs": [
    {
     "name": "stdout",
     "output_type": "stream",
     "text": [
      "Sumas y restas\n",
      "3\n",
      "3.0\n",
      "-1.0\n"
     ]
    }
   ],
   "source": [
    "print(\"Sumas y restas\")\n",
    "print(1 + 2)\n",
    "print(1.0 + 2) # Fijate que cuando sumo float con int devuelve un FLOAT\n",
    "print(1.0 - 2) # Siempre que opero float e int, dará float como tipo de resutado"
   ]
  },
  {
   "cell_type": "code",
   "execution_count": 9,
   "id": "5c4f2b38-eadb-4273-8e40-4439a928a304",
   "metadata": {},
   "outputs": [
    {
     "name": "stdout",
     "output_type": "stream",
     "text": [
      "Mult y Divisiones\n",
      "4\n",
      "4.0\n",
      "1.0\n"
     ]
    }
   ],
   "source": [
    "print(\"Mult y Divisiones\")\n",
    "print(2 * 2)\n",
    "print(2.0 * 2)\n",
    "print(2/2) # El tipo del resultado de una división SIEMPRE es un float"
   ]
  },
  {
   "cell_type": "code",
   "execution_count": 10,
   "id": "c6e3fe6f-deb7-494c-978b-f691f6c28848",
   "metadata": {},
   "outputs": [
    {
     "name": "stdout",
     "output_type": "stream",
     "text": [
      "Resto División\n",
      "3.3333333333333335\n",
      "3\n",
      "1\n",
      "3\n"
     ]
    }
   ],
   "source": [
    "print(\"Resto División\")\n",
    "print(10/3)\n",
    "print(int(10/3))\n",
    "print(10 % 3)\n",
    "print(10 // 3)"
   ]
  },
  {
   "cell_type": "code",
   "execution_count": 13,
   "id": "56f6d3ac-c4fd-427d-b3cb-8746ec7c61bf",
   "metadata": {},
   "outputs": [
    {
     "name": "stdout",
     "output_type": "stream",
     "text": [
      "¿Es 43678910 par?\n",
      "El resto es 0\n",
      "Es par\n"
     ]
    }
   ],
   "source": [
    "n = 43678910\n",
    "print(\"¿Es\", n, \"par?\")\n",
    "resto = n % 2\n",
    "print(\"El resto es\", resto)\n",
    "if resto == 0:\n",
    "    print(\"Es par\")\n",
    "else:\n",
    "    print(\"Es impar\")"
   ]
  },
  {
   "cell_type": "code",
   "execution_count": null,
   "id": "d35c4989-6fe0-444e-90f7-c0069bf46d98",
   "metadata": {},
   "outputs": [],
   "source": []
  }
 ],
 "metadata": {
  "kernelspec": {
   "display_name": "Python 3 (ipykernel)",
   "language": "python",
   "name": "python3"
  },
  "language_info": {
   "codemirror_mode": {
    "name": "ipython",
    "version": 3
   },
   "file_extension": ".py",
   "mimetype": "text/x-python",
   "name": "python",
   "nbconvert_exporter": "python",
   "pygments_lexer": "ipython3",
   "version": "3.13.0"
  }
 },
 "nbformat": 4,
 "nbformat_minor": 5
}
