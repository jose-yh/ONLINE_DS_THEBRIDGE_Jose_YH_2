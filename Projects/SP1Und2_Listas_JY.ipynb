{
 "cells": [
  {
   "cell_type": "code",
   "execution_count": 1,
   "id": "fe883cb0-ff38-45c0-8957-aae8f346c73f",
   "metadata": {},
   "outputs": [
    {
     "name": "stdout",
     "output_type": "stream",
     "text": [
      "[1, 3, 5, 6]\n",
      "<class 'list'>\n"
     ]
    }
   ],
   "source": [
    "# Lista de números\n",
    "numeros = [1, 3, 5, 6]\n",
    "print(numeros)\n",
    "print(type(numeros))"
   ]
  },
  {
   "cell_type": "code",
   "execution_count": 3,
   "id": "7fe9c555-6867-4f0f-b09f-0bffc23c9693",
   "metadata": {},
   "outputs": [
    {
     "name": "stdout",
     "output_type": "stream",
     "text": [
      "['Esto', 'es', 'una', 'lista']\n"
     ]
    }
   ],
   "source": [
    "# Lista de strings\n",
    "strings = [\"Esto\", \"es\", \"una\", \"lista\"]\n",
    "print(strings)"
   ]
  },
  {
   "cell_type": "code",
   "execution_count": 5,
   "id": "dcd8edee-810e-4ba8-862e-626b5a7a9f15",
   "metadata": {},
   "outputs": [
    {
     "name": "stdout",
     "output_type": "stream",
     "text": [
      "[True, False, True, True, False]\n"
     ]
    }
   ],
   "source": [
    "# Lista de booleanos\n",
    "booleanos = [True, False, not False, True or False, False and False]\n",
    "print(booleanos)"
   ]
  },
  {
   "cell_type": "code",
   "execution_count": 8,
   "id": "5d8d094b-a31c-4d63-9118-f3604f508dfe",
   "metadata": {},
   "outputs": [
    {
     "name": "stdout",
     "output_type": "stream",
     "text": [
      "['Esto es', 12, -34.5, True, False, 'lista']\n",
      "<class 'list'>\n"
     ]
    }
   ],
   "source": [
    "# Lista de tipos mezclados\n",
    "mix = [\"Esto es\", 12, -34.5, True, False, \"lista\"]\n",
    "print(mix)\n",
    "print(type(mix))"
   ]
  },
  {
   "cell_type": "code",
   "execution_count": 19,
   "id": "60c6052f-7db2-4693-9ea3-520da50cfd69",
   "metadata": {},
   "outputs": [
    {
     "name": "stdout",
     "output_type": "stream",
     "text": [
      "['Gola', '12', 23, [23, True, False]]\n"
     ]
    }
   ],
   "source": [
    "# Lista dentro de listas\n",
    "listas = [\"Gola\", \"12\",23, [23,True,False]]  # Cuántos elementos tiene esta lista? -> Tiene 4\n",
    "print(listas)     # Accedemos a los elementos de la lista mediante CORCHETES []"
   ]
  },
  {
   "cell_type": "code",
   "execution_count": 12,
   "id": "40f2987c-12fa-42fd-bd80-8a52fc5c4238",
   "metadata": {},
   "outputs": [
    {
     "data": {
      "text/plain": [
       "4"
      ]
     },
     "execution_count": 12,
     "metadata": {},
     "output_type": "execute_result"
    }
   ],
   "source": [
    "len(listas)  # Con esto confirmamos la pregunta anterior: ¿Cuántos elementos tiene la lista anterior?"
   ]
  },
  {
   "cell_type": "code",
   "execution_count": 13,
   "id": "4cb118b9-e065-4a4c-b168-98a96358110c",
   "metadata": {},
   "outputs": [
    {
     "data": {
      "text/plain": [
       "6"
      ]
     },
     "execution_count": 13,
     "metadata": {},
     "output_type": "execute_result"
    }
   ],
   "source": [
    "len(mix)   # Esta contando esta operación -> mix = [\"Esto es\", 12, -34.5, True, False, \"lista\"]"
   ]
  },
  {
   "cell_type": "code",
   "execution_count": 15,
   "id": "ccda14bb-26f6-40ab-8252-a6aea5986b74",
   "metadata": {},
   "outputs": [
    {
     "name": "stdout",
     "output_type": "stream",
     "text": [
      "['Esto es', 12, -34.5, True, False, 'lista', 'Gola', '12', 23, [23, True, False]]\n",
      "<class 'list'>\n"
     ]
    }
   ],
   "source": [
    "# Concatenar\n",
    "concatenacion_1 = mix + listas\n",
    "print(concatenacion_1)\n",
    "print(type(concatenacion_1))"
   ]
  },
  {
   "cell_type": "code",
   "execution_count": 16,
   "id": "50181ed2-0235-4ed9-bd4b-4a7eef01917d",
   "metadata": {},
   "outputs": [
    {
     "name": "stdout",
     "output_type": "stream",
     "text": [
      "['Gola', '12', 23, [23, True, False], 'Esto es', 12, -34.5, True, False, 'lista']\n",
      "<class 'list'>\n"
     ]
    }
   ],
   "source": [
    "concatenacion_2 = listas + mix  # Aquí cambiará el orden. No es conmutativa esta operación\n",
    "print(concatenacion_2)\n",
    "print(type(concatenacion_2))"
   ]
  },
  {
   "cell_type": "code",
   "execution_count": 17,
   "id": "d61b02c1-a3c9-498e-860e-be7cad3df276",
   "metadata": {},
   "outputs": [
    {
     "data": {
      "text/plain": [
       "list"
      ]
     },
     "execution_count": 17,
     "metadata": {},
     "output_type": "execute_result"
    }
   ],
   "source": [
    "# Podemos ver el tipo de lista\n",
    "type(mix)"
   ]
  },
  {
   "cell_type": "code",
   "execution_count": 18,
   "id": "a51e4561-f5aa-49c8-b85e-0ca4012bc86a",
   "metadata": {},
   "outputs": [
    {
     "data": {
      "text/plain": [
       "6"
      ]
     },
     "execution_count": 18,
     "metadata": {},
     "output_type": "execute_result"
    }
   ],
   "source": [
    "# Calculando la longitud de una lista\n",
    "len(mix)"
   ]
  },
  {
   "cell_type": "code",
   "execution_count": 23,
   "id": "d9c87075-cf4f-49e8-b738-1e0d819b2f49",
   "metadata": {},
   "outputs": [
    {
     "name": "stdout",
     "output_type": "stream",
     "text": [
      "Esto\n",
      "Patata\n"
     ]
    }
   ],
   "source": [
    "lista_ejemplo = [\"Esto\",2,3,\"Patata\"]   # En Python las colecciones o listas SIEMPRE empiezan por CERO\n",
    "print(lista_ejemplo[0])\n",
    "\n",
    "# Si ahora hacemos lo siguiente\n",
    "print(lista_ejemplo[-1])   # Nos dará como el ÚLTIMO, en este caso: Patata. Esto es independientemente de la longitud de la lista."
   ]
  },
  {
   "cell_type": "code",
   "execution_count": 25,
   "id": "cbe29be3-e3fa-4732-a627-889ebafd1e90",
   "metadata": {},
   "outputs": [
    {
     "name": "stdout",
     "output_type": "stream",
     "text": [
      "Nuevo elemento \n",
      "3\n"
     ]
    }
   ],
   "source": [
    "# Por ejemplo, si agrego un elemento nuevo a la lista\n",
    "lista_ejemplo = [\"Esto\",2,3,\"Patata\", \"Nuevo elemento \"]   \n",
    "print(lista_ejemplo[-1])    # Con esto comprabamos que toma el ÚLTIMO de la lista\n",
    "\n",
    "# De la misma manera puedo recorrer la lista hacia atrás\n",
    "print(lista_ejemplo[-3])    # Si colocará (134), nos dará ERROR porque esta fuera del rango"
   ]
  },
  {
   "cell_type": "code",
   "execution_count": 27,
   "id": "85d23b6d-26f7-44a1-b982-746fd8a65fc4",
   "metadata": {},
   "outputs": [
    {
     "name": "stdout",
     "output_type": "stream",
     "text": [
      "['Fisica', 'Quimica', 'Matematicas', 'Literatura', 'Filosofia']\n"
     ]
    }
   ],
   "source": [
    "# Métodos de listas\n",
    "asignaturas = [\"Fisica\",\"Quimica\",\"Matematicas\",\"Literatura\"]\n",
    "\n",
    "# Añadir un elemento a una lista\n",
    "# Método .append() -> añade un elemento al final de la lista. Recuerda que son colecciones ordenadas\n",
    "asignaturas.append(\"Filosofia\")  # Esto cambaiara la lista inicial, porque añadira Filosofia\n",
    "print(asignaturas)\n"
   ]
  },
  {
   "cell_type": "code",
   "execution_count": 28,
   "id": "1091a704-4148-402d-8d43-5146b9e09e89",
   "metadata": {},
   "outputs": [
    {
     "name": "stdout",
     "output_type": "stream",
     "text": [
      "['Fisica', 'Educación Física', 'Quimica', 'Matematicas', 'Literatura', 'Filosofia']\n"
     ]
    }
   ],
   "source": [
    "# Otra forma de añadir elementos en una posición determinada\n",
    "asignaturas.insert(1,\"Educación Física\")  # Lo añadira en el primer elemento, después de Fisica\n",
    "print(asignaturas)"
   ]
  },
  {
   "cell_type": "code",
   "execution_count": 40,
   "id": "14223294-3f6a-4076-9e4c-5986434fd314",
   "metadata": {},
   "outputs": [],
   "source": [
    "# Métodos para quitar elementos\n",
    "# .clear () -> Es demasiado potente, nos va a limpiar la lista\n",
    "# asignaturas.clear()   # Como resultado dará una lista vacía, y se representa por dos corchetes []\n",
    "# print(asignaturas)    # Nota: Hemos puesto # en esta línea y la de arriba para seguir con ejemplos, abajo"
   ]
  },
  {
   "cell_type": "code",
   "execution_count": 45,
   "id": "2631d6da-dff0-4ba0-bf7c-f77c04715de8",
   "metadata": {},
   "outputs": [
    {
     "name": "stdout",
     "output_type": "stream",
     "text": [
      "['Fisica', 'Quimica', 'Matematicas', 'Literatura']\n"
     ]
    }
   ],
   "source": [
    "asignaturas = [\"Fisica\",\"Educación Física\",\"Quimica\",\"Matematicas\",\"Literatura\"]\n",
    "\n",
    "# Quitar un elemento a partir de su índice o posición\n",
    "# Por ejemplo, vamos a quitar Educación Fisica\n",
    "asignaturas.pop(1)\n",
    "print(asignaturas)\n"
   ]
  },
  {
   "cell_type": "code",
   "execution_count": 48,
   "id": "966f1a91-0486-4782-a439-e380e6dbfefd",
   "metadata": {},
   "outputs": [
    {
     "name": "stdout",
     "output_type": "stream",
     "text": [
      "['Fisica', 'Educación Física', 'Quimica', 'Matematicas', 'Literatura']\n"
     ]
    }
   ],
   "source": [
    "# Quitar un elemento por su valor\n",
    "asignaturas = [\"Fisica\",\"Educación Física\",\"Quimica\",\"Matematicas\",\"Literatura\", \"Filosofia\"]\n",
    "asignaturas.remove(\"Filosofia\")\n",
    "print(asignaturas)"
   ]
  },
  {
   "cell_type": "code",
   "execution_count": 50,
   "id": "bb7b9eca-c792-4edb-9f82-3b8529c3f688",
   "metadata": {},
   "outputs": [
    {
     "ename": "ValueError",
     "evalue": "list.remove(x): x not in list",
     "output_type": "error",
     "traceback": [
      "\u001b[1;31m---------------------------------------------------------------------------\u001b[0m",
      "\u001b[1;31mValueError\u001b[0m                                Traceback (most recent call last)",
      "Cell \u001b[1;32mIn[50], line 4\u001b[0m\n\u001b[0;32m      1\u001b[0m \u001b[38;5;66;03m# Si intenamos quitar un elemento cuyo índice no existe o un elemento que no existe\u001b[39;00m\n\u001b[0;32m      2\u001b[0m \u001b[38;5;66;03m# El resultado dará ERROR\u001b[39;00m\n\u001b[0;32m      3\u001b[0m asignaturas \u001b[38;5;241m=\u001b[39m [\u001b[38;5;124m\"\u001b[39m\u001b[38;5;124mFisica\u001b[39m\u001b[38;5;124m\"\u001b[39m,\u001b[38;5;124m\"\u001b[39m\u001b[38;5;124mEducación Física\u001b[39m\u001b[38;5;124m\"\u001b[39m,\u001b[38;5;124m\"\u001b[39m\u001b[38;5;124mQuimica\u001b[39m\u001b[38;5;124m\"\u001b[39m,\u001b[38;5;124m\"\u001b[39m\u001b[38;5;124mMatematicas\u001b[39m\u001b[38;5;124m\"\u001b[39m,\u001b[38;5;124m\"\u001b[39m\u001b[38;5;124mLiteratura\u001b[39m\u001b[38;5;124m\"\u001b[39m, \u001b[38;5;124m\"\u001b[39m\u001b[38;5;124mFilosofia\u001b[39m\u001b[38;5;124m\"\u001b[39m]\n\u001b[1;32m----> 4\u001b[0m \u001b[43masignaturas\u001b[49m\u001b[38;5;241;43m.\u001b[39;49m\u001b[43mremove\u001b[49m\u001b[43m(\u001b[49m\u001b[38;5;124;43m\"\u001b[39;49m\u001b[38;5;124;43mCine\u001b[39;49m\u001b[38;5;124;43m\"\u001b[39;49m\u001b[43m)\u001b[49m   \u001b[38;5;66;03m# Lo mismo pasará si utilizamos  .pop(123) dará ERROR, fuera de rango\u001b[39;00m\n\u001b[0;32m      5\u001b[0m \u001b[38;5;28mprint\u001b[39m(asignaturas)\n",
      "\u001b[1;31mValueError\u001b[0m: list.remove(x): x not in list"
     ]
    }
   ],
   "source": [
    "# Si intenamos quitar un elemento cuyo índice no existe o un elemento que no existe\n",
    "# El resultado dará ERROR\n",
    "asignaturas = [\"Fisica\",\"Educación Física\",\"Quimica\",\"Matematicas\",\"Literatura\", \"Filosofia\"]\n",
    "asignaturas.remove(\"Cine\")   # Lo mismo pasará si utilizamos  .pop(123) dará ERROR, fuera de rango\n",
    "print(asignaturas)"
   ]
  },
  {
   "cell_type": "code",
   "execution_count": 51,
   "id": "3dc2e2ce-c027-44af-88d6-8e3d333aa3d6",
   "metadata": {},
   "outputs": [
    {
     "name": "stdout",
     "output_type": "stream",
     "text": [
      "['Educación Física', 'Filosofia', 'Fisica', 'Literatura', 'Matematicas', 'Quimica']\n"
     ]
    }
   ],
   "source": [
    "# Método para ordenar la lista. Lo hará alfabeticamente y nos la deja ordenada\n",
    "asignaturas.sort()\n",
    "print(asignaturas)"
   ]
  },
  {
   "cell_type": "code",
   "execution_count": null,
   "id": "1e2cd30a-7f4a-4c9f-9b18-d9edbd23d3e4",
   "metadata": {},
   "outputs": [],
   "source": []
  }
 ],
 "metadata": {
  "kernelspec": {
   "display_name": "Python 3 (ipykernel)",
   "language": "python",
   "name": "python3"
  },
  "language_info": {
   "codemirror_mode": {
    "name": "ipython",
    "version": 3
   },
   "file_extension": ".py",
   "mimetype": "text/x-python",
   "name": "python",
   "nbconvert_exporter": "python",
   "pygments_lexer": "ipython3",
   "version": "3.13.0"
  }
 },
 "nbformat": 4,
 "nbformat_minor": 5
}
