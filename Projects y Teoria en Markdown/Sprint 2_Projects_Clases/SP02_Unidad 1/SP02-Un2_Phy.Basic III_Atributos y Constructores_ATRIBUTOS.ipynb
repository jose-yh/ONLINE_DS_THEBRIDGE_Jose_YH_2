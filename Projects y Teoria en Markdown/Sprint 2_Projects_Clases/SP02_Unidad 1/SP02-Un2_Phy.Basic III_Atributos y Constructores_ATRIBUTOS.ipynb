{
 "cells": [
  {
   "cell_type": "code",
   "execution_count": 1,
   "id": "2ebf74b0",
   "metadata": {},
   "outputs": [],
   "source": [
    "# SP02-Unid2_Python Basic III_Atributos y Constructores: ATRIBUTOS\n",
    "\n",
    "## Son las CARACTERISTICAS QUE SE DEFINEN A LOS OBJETOS DE UNA CLASE. La marca, el color, potencia del coche. Estos atributos que se definen \n",
    "## de manera genérica en la clase y luego cada objeto Coche tendra un valor para cada uno de sus atrbutos.\n",
    "## Los atributos los definimos tras la declaración de la clase. Y luego se accede a ellos mediante la sintaxis: objeto.atributo"
   ]
  },
  {
   "cell_type": "code",
   "execution_count": 1,
   "id": "4159c8c8",
   "metadata": {},
   "outputs": [],
   "source": [
    "# Definimos la clase\n",
    "class Coche:\n",
    "    # Creando nuestro primeros atributos\n",
    "    puertas = 4\n",
    "    ruedas = 4"
   ]
  },
  {
   "cell_type": "code",
   "execution_count": 3,
   "id": "0fe566c6",
   "metadata": {},
   "outputs": [
    {
     "name": "stdout",
     "output_type": "stream",
     "text": [
      "4\n",
      "4\n"
     ]
    }
   ],
   "source": [
    "# Ahora todos los coches que creamos, tendrán 4 puertas y 4 ruedas\n",
    "tesla = Coche()\n",
    "print(tesla.puertas)\n",
    "print(tesla.ruedas)"
   ]
  },
  {
   "cell_type": "code",
   "execution_count": null,
   "id": "a90de39f",
   "metadata": {},
   "outputs": [],
   "source": [
    "# Tambien podemos modificar los atributos. Esto Python lo hace muy sencillo, los cambiamos directamente asignando valores. \n",
    "# En otros lenguajes de programación hay que implementar esto mediante métodos denominados getters y setters"
   ]
  },
  {
   "cell_type": "code",
   "execution_count": 6,
   "id": "9ca31f64",
   "metadata": {},
   "outputs": [
    {
     "name": "stdout",
     "output_type": "stream",
     "text": [
      "3\n",
      "4\n"
     ]
    }
   ],
   "source": [
    "mercedes = Coche()        # Se crea otro coche merecedes con 3 puertas\n",
    "mercedes.puertas = 3      # OJO, solo hemos cambiado el atributo al OBJETO que hemos hecho referencia. NO de la clase\n",
    "\n",
    "print(mercedes.puertas)   # Dará como resultado 3 puertas\n",
    "print(tesla.puertas)\n"
   ]
  },
  {
   "cell_type": "code",
   "execution_count": 7,
   "id": "422d68f6",
   "metadata": {},
   "outputs": [
    {
     "name": "stdout",
     "output_type": "stream",
     "text": [
      "4\n"
     ]
    }
   ],
   "source": [
    "peugeout = Coche()\n",
    "print(peugeout.puertas)  # Acá NO hemos cambiado el atributo incial de la clase\n"
   ]
  },
  {
   "cell_type": "code",
   "execution_count": 8,
   "id": "8233c142",
   "metadata": {},
   "outputs": [
    {
     "ename": "AttributeError",
     "evalue": "'Coche' object has no attribute 'motor'",
     "output_type": "error",
     "traceback": [
      "\u001b[1;31m---------------------------------------------------------------------------\u001b[0m",
      "\u001b[1;31mAttributeError\u001b[0m                            Traceback (most recent call last)",
      "Cell \u001b[1;32mIn[8], line 3\u001b[0m\n\u001b[0;32m      1\u001b[0m \u001b[38;5;66;03m# ERRORES con los atributos\u001b[39;00m\n\u001b[0;32m      2\u001b[0m \u001b[38;5;66;03m# El más común de los errores es llamar al atributo que no existe.\u001b[39;00m\n\u001b[1;32m----> 3\u001b[0m \u001b[38;5;28mprint\u001b[39m(\u001b[43mmercedes\u001b[49m\u001b[38;5;241;43m.\u001b[39;49m\u001b[43mmotor\u001b[49m)    \u001b[38;5;66;03m# Dará ERROR\u001b[39;00m\n",
      "\u001b[1;31mAttributeError\u001b[0m: 'Coche' object has no attribute 'motor'"
     ]
    }
   ],
   "source": [
    "# ERRORES con los atributos\n",
    "# El más común de los errores es llamar al atributo que no existe.\n",
    "print(mercedes.motor)    # Dará ERROR porque el atributo 'motor' NO existe. Para ello debemos mirar los atributos definidos en la clase\n"
   ]
  },
  {
   "cell_type": "code",
   "execution_count": 9,
   "id": "6fa5c87b",
   "metadata": {},
   "outputs": [],
   "source": [
    "# Si quereos diferencia un coche de otro\n",
    "bmw = Coche()\n",
    "bmw.puertas = 6\n",
    "bmw.ruedas = 8\n",
    "\n",
    "# Veremos esto en el siguiente capitulo CONSTRUCTORES"
   ]
  },
  {
   "cell_type": "code",
   "execution_count": null,
   "id": "69ff074e",
   "metadata": {},
   "outputs": [],
   "source": []
  }
 ],
 "metadata": {
  "kernelspec": {
   "display_name": "Python 3",
   "language": "python",
   "name": "python3"
  },
  "language_info": {
   "codemirror_mode": {
    "name": "ipython",
    "version": 3
   },
   "file_extension": ".py",
   "mimetype": "text/x-python",
   "name": "python",
   "nbconvert_exporter": "python",
   "pygments_lexer": "ipython3",
   "version": "3.13.0"
  }
 },
 "nbformat": 4,
 "nbformat_minor": 5
}
