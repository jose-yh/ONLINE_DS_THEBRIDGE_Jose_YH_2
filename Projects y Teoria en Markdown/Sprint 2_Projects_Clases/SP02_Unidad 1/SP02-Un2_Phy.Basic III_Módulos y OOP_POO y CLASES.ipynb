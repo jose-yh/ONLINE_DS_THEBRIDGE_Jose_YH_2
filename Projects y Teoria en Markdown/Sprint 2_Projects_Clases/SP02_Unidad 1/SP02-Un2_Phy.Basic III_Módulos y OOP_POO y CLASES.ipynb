{
 "cells": [
  {
   "cell_type": "code",
   "execution_count": 1,
   "id": "2ebf74b0",
   "metadata": {},
   "outputs": [],
   "source": [
    "# SP02-Unid2_Python Basic III_Módulos y OPP: POO Y CLASES"
   ]
  },
  {
   "cell_type": "code",
   "execution_count": 4,
   "id": "73521b5b",
   "metadata": {},
   "outputs": [],
   "source": [
    "class Coche:  # Si hubieramos querido poner choce deportivo -> seria cocheDeportivo o choche turimos -X cocheTurismo\n",
    "    # Atributos y métodos, las cosas de la clase\n",
    "    pass"
   ]
  },
  {
   "cell_type": "code",
   "execution_count": null,
   "id": "40c7f067",
   "metadata": {},
   "outputs": [],
   "source": [
    "# La sentencia pass se usa para forzar el fin de la clase Coche, La hemos declarado pero no lleva nada. Python demanda una definición de la\n",
    "# clase y podemos ignorar esa demanada mediante la sentencia pass"
   ]
  },
  {
   "cell_type": "code",
   "execution_count": 5,
   "id": "a0fa9734",
   "metadata": {},
   "outputs": [
    {
     "name": "stdout",
     "output_type": "stream",
     "text": [
      "<class 'type'>\n",
      "<class 'type'> <class 'type'>\n"
     ]
    }
   ],
   "source": [
    "print(type(Coche))\n",
    "print(type(str), type(dict))"
   ]
  },
  {
   "cell_type": "code",
   "execution_count": 6,
   "id": "aeb3dbcd",
   "metadata": {},
   "outputs": [
    {
     "name": "stdout",
     "output_type": "stream",
     "text": [
      "<class '__main__.Coche'>\n",
      "<__main__.Coche object at 0x000001B20FDB1550>\n"
     ]
    }
   ],
   "source": [
    "primer_coche = Coche()\n",
    "print(type(primer_coche))\n",
    "print(primer_coche)"
   ]
  },
  {
   "cell_type": "code",
   "execution_count": 7,
   "id": "f4ddcff7",
   "metadata": {},
   "outputs": [
    {
     "name": "stdout",
     "output_type": "stream",
     "text": [
      "False\n"
     ]
    }
   ],
   "source": [
    "citroen = Coche()\n",
    "peugeot = Coche()\n",
    "print(citroen == peugeot)"
   ]
  },
  {
   "cell_type": "code",
   "execution_count": null,
   "id": "e77b79d4",
   "metadata": {},
   "outputs": [],
   "source": [
    "# NOTA: Ver ejemplo de los PERROS, my bueno"
   ]
  }
 ],
 "metadata": {
  "kernelspec": {
   "display_name": "Python 3",
   "language": "python",
   "name": "python3"
  },
  "language_info": {
   "codemirror_mode": {
    "name": "ipython",
    "version": 3
   },
   "file_extension": ".py",
   "mimetype": "text/x-python",
   "name": "python",
   "nbconvert_exporter": "python",
   "pygments_lexer": "ipython3",
   "version": "3.13.0"
  }
 },
 "nbformat": 4,
 "nbformat_minor": 5
}
