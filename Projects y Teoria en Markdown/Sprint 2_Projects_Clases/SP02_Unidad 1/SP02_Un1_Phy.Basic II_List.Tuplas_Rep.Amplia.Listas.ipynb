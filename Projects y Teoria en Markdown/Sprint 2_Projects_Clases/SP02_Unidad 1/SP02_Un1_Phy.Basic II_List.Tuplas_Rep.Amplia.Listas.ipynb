{
 "cells": [
  {
   "cell_type": "code",
   "execution_count": null,
   "id": "98c3da05-e07c-403f-a66b-73ec36601bfa",
   "metadata": {},
   "outputs": [],
   "source": [
    "# SP02_Un1_Phyton Basic II_Lista y Tuplas_Repaso y ampliación de Listas\n",
    "# PYTHON COLECCIONES: LISTAS\n",
    "    # Las colecciones son una menera de agrupar varios elementos."
   ]
  },
  {
   "cell_type": "code",
   "execution_count": 2,
   "id": "ac6a1b2f",
   "metadata": {},
   "outputs": [],
   "source": [
    "# Lista de números, strings, booleanos, con elementos repetidos, listas anidadas\n",
    "nums = [6, 2, 8, 3, 4, 5, 5]\n",
    "months = [\"Enero\", \"Febrero\", \"Marzo\"]\n",
    "mix = [5, 7, \"Abril\", True, None, [\"Blanco\", \"Negro\"]]   # Es un conjunto, tiene numeros enteros, booleanos, \n",
    "                                                          # una lista dentro de otra linea"
   ]
  },
  {
   "cell_type": "code",
   "execution_count": 5,
   "id": "46e2d267",
   "metadata": {},
   "outputs": [
    {
     "name": "stdout",
     "output_type": "stream",
     "text": [
      "Enero\n",
      "Marzo\n",
      "Febrero\n"
     ]
    }
   ],
   "source": [
    "# Ahora veamos como acceder a los elementos dentro de una lista\n",
    "# Entre corchetes introducimos el indice del elemento al que queremos acceder\n",
    "months = [\"Enero\", \"Febrero\", \"Marzo\"]\n",
    "print(months[0])       # Si colocamos [0], nos dará el resultado Enero, debido a que las colecciones en Python\n",
    "                       # comienzan a contar sus elementos desde CERO. Si registramos [1], el resultado sería Febrero.\n",
    "\n",
    "print(months[-1])      # [-1] es el último elemento, resultado Marzo.\n",
    "\n",
    "print(months[-2])      # [-2] sería el penultimo elemento, resultado Febrero. Va hacia atrás"
   ]
  },
  {
   "cell_type": "code",
   "execution_count": 7,
   "id": "4e403987",
   "metadata": {},
   "outputs": [
    {
     "name": "stdout",
     "output_type": "stream",
     "text": [
      "1\n",
      "2\n"
     ]
    }
   ],
   "source": [
    "# Si planteamos el problema al revés. Tenemos los valores de la lista y lo que queremos es obtener el índice\n",
    "# de esos valores dentro de la lista. Para ello, se utiliza el método .index\n",
    "\n",
    "months = [\"Enero\", \"Febrero\", \"Marzo\", \"Marzo\"]    \n",
    "print(months.index(\"Febrero\"))    # El index de Febrero es igual a 1\n",
    "\n",
    "print(months.index(\"Marzo\"))      # El index de Marzo es igual a 2, porque nos da como resultado el 1er Marzo"
   ]
  },
  {
   "cell_type": "code",
   "execution_count": 13,
   "id": "16c9e081",
   "metadata": {},
   "outputs": [
    {
     "name": "stdout",
     "output_type": "stream",
     "text": [
      "[34, 15]\n",
      "[34, 15, 26]\n",
      "[34, 15, 26, 18, 22]\n",
      "[34, 15, 26, 18, 22]\n",
      "[34, 15, 26, 18, 22]\n"
     ]
    }
   ],
   "source": [
    "# SLICING\n",
    "# Usamos slicing para acceder a (un subcontenido de la lista) varios elementos seguidos de la lista\n",
    "degrees = [22, 34, 15, 26, 18, 22]\n",
    "sub_degrees = degrees[1:3]  # Ojo no se incluye el último indice (26,), si no el anterior. Resultado [34, 15]\n",
    "print(sub_degrees)          \n",
    "\n",
    "sub_degrees = degrees[1:4]  # Ojo no se incluye el último indice (18), si no el anterior. Resultado [34, 15, 26]\n",
    "print(sub_degrees) \n",
    "\n",
    "# Si quiero agregar el último número de la lista (22), entonces debería registrar [1:6]\n",
    "sub_degrees = degrees[1:6]  \n",
    "\n",
    "# O sus equivalentes, ver abajo\n",
    "sub_degrees_alt = degrees[1:len(degrees)]     # Que lea hasta su longitud len(degrees). \n",
    "sub_degrees_alt_2 = degrees[1:]               # No se coloca nada, para que lea el último [1: ]\n",
    "# Ahora imprimimos para ver los resultados:\n",
    "print(sub_degrees)            # Resultado: [34, 15, 26, 18, 22]\n",
    "print(sub_degrees_alt)        # Resultado: [34, 15, 26, 18, 22]\n",
    "print(sub_degrees_alt_2)      # Resultado: [34, 15, 26, 18, 22]"
   ]
  },
  {
   "cell_type": "code",
   "execution_count": 15,
   "id": "75e50576",
   "metadata": {},
   "outputs": [
    {
     "name": "stdout",
     "output_type": "stream",
     "text": [
      "['Enero', 'Abril', 'Marzo']\n"
     ]
    }
   ],
   "source": [
    "# MODIFICAR ELEMENTOS\n",
    "# Las listas son MUTABLES, por lo que podremos modificarlas. Esto quiere decir, que podemos cambiar los \n",
    "# elementos dentro de una lista simplemente indexandolos. Ver ejemplo:\n",
    "\n",
    "# Accediendo mediante indice\n",
    "months = [\"Enero\", \"Febrero\", \"Marzo\"]    # Pero deseo cambiar Febrero por Abril porque me gusta más Abril.\n",
    "# Entonces si Enero es el índice cero, y Febrero es el índice 1\n",
    "months[1] = \"Abril\"     # Resultado: [\"Enero, \"Abril\", \"Marzo\"]. A esto llamaos MUTABILIDAD!\n",
    "print(months)\n"
   ]
  },
  {
   "cell_type": "code",
   "execution_count": 20,
   "id": "43250c79",
   "metadata": {},
   "outputs": [
    {
     "name": "stdout",
     "output_type": "stream",
     "text": [
      "['honda', 'yamaha', 'suzuki', 'kawasaki']\n",
      "['honda', 'yamaha', 'suzuki', 'bultaco', 'kawasaki']\n"
     ]
    }
   ],
   "source": [
    "# AÑADIR ELEMENTOS\n",
    "# Se añaden al final de la lista si usamos append, o si queremos en un lugar concreto, mediante insert\n",
    "\n",
    "# Con.append los añadimos al final de la lista\n",
    "motorcycles = [\"honda\", \"yamaha\", \"suzuki\"]\n",
    "motorcycles.append(\"kawasaki\")\n",
    "print(motorcycles)\n",
    "\n",
    "# Con .insert los añadimos en el nivel que queramos\n",
    "motorcycles.insert(3, \"bultaco\")        # Lo vamos a insertar en el nivel 3, la moto bultaco\n",
    "print(motorcycles)\n"
   ]
  },
  {
   "cell_type": "code",
   "execution_count": 21,
   "id": "29980afa",
   "metadata": {},
   "outputs": [
    {
     "name": "stdout",
     "output_type": "stream",
     "text": [
      "['primera_marca']\n",
      "['siguiente_marca', 'primera_marca']\n"
     ]
    }
   ],
   "source": [
    "# Es muy común crear una lista vacia, y a lo largo del programa, ir añadiendo\n",
    "lista_motos = []\n",
    "lista_motos.append(\"primera_marca\")\n",
    "print(lista_motos)\n",
    "\n",
    "# Un monton de línea de código\n",
    "lista_motos.insert(0,\"siguiente_marca\")\n",
    "print(lista_motos)"
   ]
  },
  {
   "cell_type": "code",
   "execution_count": null,
   "id": "04e8f08b",
   "metadata": {},
   "outputs": [],
   "source": []
  },
  {
   "cell_type": "code",
   "execution_count": null,
   "id": "5e89bd71",
   "metadata": {},
   "outputs": [],
   "source": []
  }
 ],
 "metadata": {
  "kernelspec": {
   "display_name": "Python 3",
   "language": "python",
   "name": "python3"
  },
  "language_info": {
   "codemirror_mode": {
    "name": "ipython",
    "version": 3
   },
   "file_extension": ".py",
   "mimetype": "text/x-python",
   "name": "python",
   "nbconvert_exporter": "python",
   "pygments_lexer": "ipython3",
   "version": "3.13.0"
  }
 },
 "nbformat": 4,
 "nbformat_minor": 5
}
