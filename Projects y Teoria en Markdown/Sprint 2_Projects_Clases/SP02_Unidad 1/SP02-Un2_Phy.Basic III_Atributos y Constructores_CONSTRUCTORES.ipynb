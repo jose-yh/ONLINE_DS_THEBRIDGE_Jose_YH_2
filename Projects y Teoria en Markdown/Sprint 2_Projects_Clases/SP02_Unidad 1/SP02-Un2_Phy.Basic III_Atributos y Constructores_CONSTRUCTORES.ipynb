{
 "cells": [
  {
   "cell_type": "code",
   "execution_count": 1,
   "id": "2ebf74b0",
   "metadata": {},
   "outputs": [],
   "source": [
    "# SP02-Unid2_Python Basic III_Atributos y Constructores: CONSTRUCTORES\n",
    "\n",
    "## Veíamos en la sesión anterior que cuando creamos un objeto de la clase Coche sin más, este objeto adquiere los atributos por defecto \n",
    "## de la clase. Si queremos definirlo bien \"de primeras\" (en su instanciación o creación) para diferenciarlo de otros coches, necesitamos algo más.\n",
    "\n",
    "## Este algo más que me permite la definición inicial, es lo que se denomina constructor de la clase.\n",
    "## Será un método, muy similar a una función, al que daremos unos argumentos de entrada que sustituirán a los valores por defecto y que nos \n",
    "## permitirán diferenciar esa instancia de otras instancias de la misma clase.\n",
    "\n",
    "## ¿Cómo se define un CONSTRUTOR? Mediante la función __init__ y la incluiremos dentro de la clase.\n"
   ]
  },
  {
   "cell_type": "code",
   "execution_count": 3,
   "id": "aceff858",
   "metadata": {},
   "outputs": [],
   "source": [
    "# Creando nuestro primer constructor:\n",
    "class Coche():\n",
    "    puertas = 4\n",
    "    ruedas = 4\n",
    "                                        # 'self' lo tendremos que poner SIEMPRE!\n",
    "    def __init__(self, marca_coche):    # 'self' hace referencia al objeto que estamos INSTANCIANDO en el caso del constructor\n",
    "        self.marca = marca_coche        # 'marca_coche' es el argumento\n"
   ]
  },
  {
   "cell_type": "code",
   "execution_count": 5,
   "id": "e8fe8f6b",
   "metadata": {},
   "outputs": [
    {
     "ename": "TypeError",
     "evalue": "Coche.__init__() missing 1 required positional argument: 'marca_coche'",
     "output_type": "error",
     "traceback": [
      "\u001b[1;31m---------------------------------------------------------------------------\u001b[0m",
      "\u001b[1;31mTypeError\u001b[0m                                 Traceback (most recent call last)",
      "Cell \u001b[1;32mIn[5], line 2\u001b[0m\n\u001b[0;32m      1\u001b[0m \u001b[38;5;66;03m# Creando nuestro primer objeto con constructor:\u001b[39;00m\n\u001b[1;32m----> 2\u001b[0m tesla \u001b[38;5;241m=\u001b[39m \u001b[43mCoche\u001b[49m\u001b[43m(\u001b[49m\u001b[43m)\u001b[49m\n",
      "\u001b[1;31mTypeError\u001b[0m: Coche.__init__() missing 1 required positional argument: 'marca_coche'"
     ]
    }
   ],
   "source": [
    "# Creando nuestro primer objeto con constructor:\n",
    "tesla = Coche()   # OJO, Si ejecutamos, dará ERROR porque no se ha introducido el atributo 'marca_coche1\n",
    "\n"
   ]
  },
  {
   "cell_type": "code",
   "execution_count": 7,
   "id": "c578b9ff",
   "metadata": {},
   "outputs": [
    {
     "name": "stdout",
     "output_type": "stream",
     "text": [
      "Tesla\n"
     ]
    }
   ],
   "source": [
    "# Ahora si vamos a crear nuestro primer objeto con constructor:\n",
    "tesla = Coche(\"Tesla\")     \n",
    "print(tesla.marca)         # Printando su atributo\n"
   ]
  },
  {
   "cell_type": "code",
   "execution_count": null,
   "id": "6fa5c87b",
   "metadata": {},
   "outputs": [],
   "source": [
    "# En la declaración del constructor hemos metido la palabra 'self'. Lo tendremos que poner SIEMPRE. Hace referencia a la propia instancia de \n",
    "# coche, es decir, a cuando creemos coches nuevos.\n",
    "# Ahora si ya podemos construir nuestros objetos diferenciados a través del CONSTRUCTOR indicando la marca."
   ]
  },
  {
   "cell_type": "code",
   "execution_count": 9,
   "id": "69ff074e",
   "metadata": {},
   "outputs": [
    {
     "name": "stdout",
     "output_type": "stream",
     "text": [
      "Mercedes\n",
      "Renault\n",
      "4\n",
      "4\n"
     ]
    }
   ],
   "source": [
    "# Creando diferentes coches\n",
    "mercedes = Coche(\"Mercedes\")    # Acordate que es un ARGUMENTO POSICIONAL, por lo tanto hay que indicarla marca 'Mercedes'\n",
    "renault = Coche(\"Renault\")\n",
    "print(mercedes.marca)\n",
    "print(renault.marca)\n",
    "print(mercedes.puertas)\n",
    "print(renault.puertas)\n"
   ]
  },
  {
   "cell_type": "code",
   "execution_count": 10,
   "id": "8f64fbf4",
   "metadata": {},
   "outputs": [],
   "source": [
    "# Ahora, cómo podemos cambiar el número de puertas UTILIZANDO el constructor. Es tan sencillo como indicandole un nuevo\n",
    "# argumento al constructor\n",
    "\n",
    "class Coche:\n",
    "    puertas = 4\n",
    "    ruedas = 4\n",
    "\n",
    "    def __init__(self, marca_coche, num_puertas):   # El nuevo argumento es 'num_puertas'\n",
    "        self.marca = marca_coche\n",
    "        self.puertas = num_puertas      # Aquí 'self' esta entrando al atributo arriba llamado 'puertas = 4'\n"
   ]
  },
  {
   "cell_type": "code",
   "execution_count": 11,
   "id": "e30c8ef4",
   "metadata": {},
   "outputs": [],
   "source": [
    "# Creando los coches\n",
    "\n",
    "tesla = Coche(\"Tesla\",6)\n",
    "mercedes_500 = Coche(\"Mercedes\", 8)"
   ]
  },
  {
   "cell_type": "code",
   "execution_count": 12,
   "id": "cea52b40",
   "metadata": {},
   "outputs": [
    {
     "name": "stdout",
     "output_type": "stream",
     "text": [
      "6\n"
     ]
    }
   ],
   "source": [
    "print(tesla.puertas)   # Resultado igual a 6, porque hemos cCAMBIADO el CONSTRUCTOR"
   ]
  },
  {
   "cell_type": "code",
   "execution_count": 13,
   "id": "4f4f87b8",
   "metadata": {},
   "outputs": [],
   "source": [
    "class Coche:\n",
    "    #puertas = 4     # Al registrarlo como argumento abajo, este atributo se podría eliminar\n",
    "    #ruedas = 4      # Al registrarlo como argumento abajo, este atributo se podría eliminar\n",
    "\n",
    "    def __init__(self, marca_coche, num_puertas = 4, num_ruedas = 4):   # Indicando nuevos argumentos 'num_puertas = 4', 'num_ruedas =4'\n",
    "        self.marca = marca_coche\n",
    "        self.puertas = num_puertas      # Aquí 'self' esta entrando al atributo arriba llamado 'puertas = 4'\n",
    "        self.ruedas = num_ruedas        # Se introduce esto porque hemos creado un nuevo argumento arriba"
   ]
  },
  {
   "cell_type": "code",
   "execution_count": 14,
   "id": "1e98f394",
   "metadata": {},
   "outputs": [],
   "source": [
    "# Ahora creamos los coches:\n",
    "tesla_4 = Coche(\"Tesla\")\n",
    "tesla_6r = Coche(\"Tesla, num_ruedas = 6\")"
   ]
  },
  {
   "cell_type": "code",
   "execution_count": 15,
   "id": "df38c388",
   "metadata": {},
   "outputs": [
    {
     "name": "stdout",
     "output_type": "stream",
     "text": [
      "4 4\n",
      "4 4\n"
     ]
    }
   ],
   "source": [
    "print(tesla_4.puertas, tesla_6r.puertas)\n",
    "print(tesla_4.ruedas, tesla_6r.ruedas)"
   ]
  },
  {
   "cell_type": "code",
   "execution_count": 16,
   "id": "e181e4b0",
   "metadata": {},
   "outputs": [],
   "source": [
    "class Avion:\n",
    "    num_motores = 2"
   ]
  },
  {
   "cell_type": "code",
   "execution_count": 19,
   "id": "beda62e6",
   "metadata": {},
   "outputs": [
    {
     "ename": "TypeError",
     "evalue": "Avion() takes no arguments",
     "output_type": "error",
     "traceback": [
      "\u001b[1;31m---------------------------------------------------------------------------\u001b[0m",
      "\u001b[1;31mTypeError\u001b[0m                                 Traceback (most recent call last)",
      "Cell \u001b[1;32mIn[19], line 1\u001b[0m\n\u001b[1;32m----> 1\u001b[0m avion_A350 \u001b[38;5;241m=\u001b[39m \u001b[43mAvion\u001b[49m\u001b[43m(\u001b[49m\u001b[38;5;124;43m\"\u001b[39;49m\u001b[38;5;124;43mavion_A350\u001b[39;49m\u001b[38;5;124;43m\"\u001b[39;49m\u001b[43m,\u001b[49m\u001b[43m \u001b[49m\u001b[38;5;241;43m3\u001b[39;49m\u001b[43m)\u001b[49m\n",
      "\u001b[1;31mTypeError\u001b[0m: Avion() takes no arguments"
     ]
    }
   ],
   "source": [
    "avion_A350 = Avion(\"avion_A350\", 3)"
   ]
  }
 ],
 "metadata": {
  "kernelspec": {
   "display_name": "Python 3",
   "language": "python",
   "name": "python3"
  },
  "language_info": {
   "codemirror_mode": {
    "name": "ipython",
    "version": 3
   },
   "file_extension": ".py",
   "mimetype": "text/x-python",
   "name": "python",
   "nbconvert_exporter": "python",
   "pygments_lexer": "ipython3",
   "version": "3.13.0"
  }
 },
 "nbformat": 4,
 "nbformat_minor": 5
}
