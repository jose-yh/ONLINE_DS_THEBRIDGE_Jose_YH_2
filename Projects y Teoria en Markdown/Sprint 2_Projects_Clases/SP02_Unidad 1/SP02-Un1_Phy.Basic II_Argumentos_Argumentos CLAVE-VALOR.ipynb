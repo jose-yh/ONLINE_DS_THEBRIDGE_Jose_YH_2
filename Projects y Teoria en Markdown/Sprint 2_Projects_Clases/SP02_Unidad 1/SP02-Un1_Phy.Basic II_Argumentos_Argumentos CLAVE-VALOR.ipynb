{
 "cells": [
  {
   "cell_type": "code",
   "execution_count": 2,
   "id": "98c3da05-e07c-403f-a66b-73ec36601bfa",
   "metadata": {},
   "outputs": [
    {
     "name": "stdout",
     "output_type": "stream",
     "text": [
      "<class 'dict'>\n",
      "{'modelo': 'S20', 'marca': 'Samsumg', 'camara': '24MPX'}\n"
     ]
    }
   ],
   "source": [
    "# SP02_Und1_Phyton Basic II_Argumentos - CL# VE-VALOR\n",
    "# Nos permite utilizar un número varaible de argumentos con la posibilidada de acceder a ellos mediante una etiqueta. Lo haremos utilizando las \n",
    "# colecciones, en el acceso por clave, es decir, los diccionarios.\n",
    "# Es decir, tenemos también la opción de introducir como argumentos, de esta forma, aunque el número de argumentos sea variable, tendremos un \n",
    "# indicador, la clave y el valor de la clave.\n",
    "# Se implementa con DOS asteriscos **\n",
    "\n",
    "def insertar_movil_bd(**clave_valor):  # al poner en el interprete los DOS asteriscos, lo esta conviritendo en un diccionario\n",
    "    print(type(clave_valor))\n",
    "    print(clave_valor)\n",
    "\n",
    "insertar_movil_bd( modelo =\"S20\", marca = \"Samsumg\", camara = \"24MPX\")\n"
   ]
  },
  {
   "cell_type": "code",
   "execution_count": 5,
   "id": "961e02bf",
   "metadata": {},
   "outputs": [
    {
     "name": "stdout",
     "output_type": "stream",
     "text": [
      "marca : Samsung\n",
      "modelo : S20\n",
      "camara : 24MPX\n",
      "flip : True\n"
     ]
    }
   ],
   "source": [
    "# Definamos una nueva función\n",
    "def insertar_movil_bd(**kwargs):\n",
    "    for clave,valor in kwargs.items():\n",
    "        # insertar(clave,valor)\n",
    "        print(clave,\":\",valor)\n",
    "\n",
    "insertar_movil_bd(marca = \"Samsung\", modelo = \"S20\", camara = \"24MPX\", flip = True)\n",
    "    "
   ]
  },
  {
   "cell_type": "code",
   "execution_count": null,
   "id": "cc919d18",
   "metadata": {},
   "outputs": [],
   "source": []
  },
  {
   "cell_type": "code",
   "execution_count": null,
   "id": "3ae94aa3",
   "metadata": {},
   "outputs": [],
   "source": []
  },
  {
   "cell_type": "code",
   "execution_count": null,
   "id": "17f44237",
   "metadata": {},
   "outputs": [],
   "source": []
  },
  {
   "cell_type": "code",
   "execution_count": null,
   "id": "941ef525",
   "metadata": {},
   "outputs": [],
   "source": []
  },
  {
   "cell_type": "code",
   "execution_count": null,
   "id": "642c20b2",
   "metadata": {},
   "outputs": [],
   "source": []
  }
 ],
 "metadata": {
  "kernelspec": {
   "display_name": "Python 3",
   "language": "python",
   "name": "python3"
  },
  "language_info": {
   "codemirror_mode": {
    "name": "ipython",
    "version": 3
   },
   "file_extension": ".py",
   "mimetype": "text/x-python",
   "name": "python",
   "nbconvert_exporter": "python",
   "pygments_lexer": "ipython3",
   "version": "3.13.0"
  }
 },
 "nbformat": 4,
 "nbformat_minor": 5
}
