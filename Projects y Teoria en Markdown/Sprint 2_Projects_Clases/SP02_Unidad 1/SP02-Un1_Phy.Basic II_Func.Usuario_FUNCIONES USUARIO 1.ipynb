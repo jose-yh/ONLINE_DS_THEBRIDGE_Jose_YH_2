{
 "cells": [
  {
   "cell_type": "code",
   "execution_count": null,
   "id": "98c3da05-e07c-403f-a66b-73ec36601bfa",
   "metadata": {},
   "outputs": [],
   "source": [
    "# SP02_Un1_Phyton Basic II_Funciones Usuario - FUNCIONES USUARIO 1\n",
    "# ¿Cuándo debemos utilizarlas?\n",
    "# Cuando tengamos varias operaciones que ejecutamos repetidamente en distintas artes del código. En ese caso, encapsulamos las operaciones\n",
    "# en unafunción, y cada vez que haya que realizar tal operativa, llamamos a la función, y en una sola lñinea de códigos tenemos ejecutada \n",
    "# esas operaciones.\n",
    "\n",
    "# SINTAXIS:  \n",
    "def nombre_function(entrada):  # NO se puede tener espacio dentro de la función, NI números. SIEMPRE llevan () con dos puntos :\n",
    "    operaciones varias\n",
    "    return output"
   ]
  },
  {
   "cell_type": "code",
   "execution_count": 18,
   "id": "6d59784b",
   "metadata": {},
   "outputs": [],
   "source": [
    "# Creando nuestra primera función, vamos a crear un conversor de kilometros a millas\n",
    "def conversor_km_millas(distancia):\n",
    "    millas = 0.62 * distancia\n",
    "    # return millas\n",
    "    return round(millas,1)         # Como el resultado abajo dió con decimales, y nuestro jefe dice que hay que redondearlo, entonces se \n",
    "                                   # crea esta parte en la función return round(millas,1) con UN decimal\n",
    "\n",
    "# Al ejecutar el código anterior, NO corre NADA, simplemente almacenamos en memoria la función para usarla posteriorment. \n",
    "# Ahora podremos llamar la función tantas veces como queramos, desde cualquier parte del código."
   ]
  },
  {
   "cell_type": "code",
   "execution_count": 19,
   "id": "261d1ecf",
   "metadata": {},
   "outputs": [
    {
     "data": {
      "text/plain": [
       "124.0"
      ]
     },
     "execution_count": 19,
     "metadata": {},
     "output_type": "execute_result"
    }
   ],
   "source": [
    "conversor_km_millas(200)  # La idea no es utilizarlo de esta forma. Veamos el siguiente ejemplo abajo."
   ]
  },
  {
   "cell_type": "code",
   "execution_count": 20,
   "id": "e1a49bc7",
   "metadata": {},
   "outputs": [
    {
     "name": "stdout",
     "output_type": "stream",
     "text": [
      "1371.4\n"
     ]
    }
   ],
   "source": [
    "# OJO el valor de millas (abajo), NO es el mismo que el de la función (creada arriba)\n",
    "millas = conversor_km_millas(2212)\n",
    "print(millas)                         # Dará el resultado con un único decimal"
   ]
  },
  {
   "cell_type": "code",
   "execution_count": 26,
   "id": "68d3f7ac",
   "metadata": {},
   "outputs": [],
   "source": [
    "# Las funciones no tienen porque llevar argumentos. Eso si, es obligatorio poner paréntesis, tanto en la declaración, como \n",
    "# luego al llamar a la función\n",
    "\n",
    "# Vamos a crear una función que nos devuelva la HORA. Pero antes necesitamos hacer una pequeña importación:\n",
    "from datetime import datetime\n",
    "\n",
    "def que_hora_es():\n",
    "    now = datetime.now().time()\n",
    "    return now"
   ]
  },
  {
   "cell_type": "code",
   "execution_count": 27,
   "id": "78de0f85",
   "metadata": {},
   "outputs": [
    {
     "name": "stdout",
     "output_type": "stream",
     "text": [
      "15:50:39.038129\n"
     ]
    }
   ],
   "source": [
    "print(que_hora_es())"
   ]
  },
  {
   "cell_type": "code",
   "execution_count": null,
   "id": "8ba16ed4",
   "metadata": {},
   "outputs": [],
   "source": [
    "# Si no queremos RETURN, y que acabe en PRINT. que nos retorne la hora simplemente\n",
    "from datetime import datetime\n",
    "\n",
    "def que_hora_es():\n",
    "    now = datetime.now().time()\n",
    "    print(now)                                # La función acaba en donde acaba el INDENTADO. Aquí acaba la DEFINICION de la función\n",
    "\n",
    "que_hora_es()                                 # Aquí se EJECUTA la función"
   ]
  }
 ],
 "metadata": {
  "kernelspec": {
   "display_name": "Python 3",
   "language": "python",
   "name": "python3"
  },
  "language_info": {
   "codemirror_mode": {
    "name": "ipython",
    "version": 3
   },
   "file_extension": ".py",
   "mimetype": "text/x-python",
   "name": "python",
   "nbconvert_exporter": "python",
   "pygments_lexer": "ipython3",
   "version": "3.13.0"
  }
 },
 "nbformat": 4,
 "nbformat_minor": 5
}
