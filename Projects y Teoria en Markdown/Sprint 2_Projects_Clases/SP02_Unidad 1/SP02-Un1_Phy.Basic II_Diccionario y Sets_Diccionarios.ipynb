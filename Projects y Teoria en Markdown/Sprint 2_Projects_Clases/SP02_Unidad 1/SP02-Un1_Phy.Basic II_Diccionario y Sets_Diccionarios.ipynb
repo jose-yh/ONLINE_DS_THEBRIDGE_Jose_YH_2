{
 "cells": [
  {
   "cell_type": "code",
   "execution_count": null,
   "id": "98c3da05-e07c-403f-a66b-73ec36601bfa",
   "metadata": {},
   "outputs": [],
   "source": [
    "# SP02_Un1_Phyton Basic II_Diccionarios y Sets_Diccionarios"
   ]
  },
  {
   "cell_type": "code",
   "execution_count": 1,
   "id": "c3d490d6",
   "metadata": {},
   "outputs": [],
   "source": [
    "# Diccionarios\n",
    "## Son colecciones, es decir son tipo en donde vamos a poder almacenar y agrupar valores de diferentes tipos a su vez\n",
    "## pero la gran potencia es que podemos establecer un etiquetado de los mismos    que nos va a permitir acceder a los\n",
    "## valores ya no por indices, si no por dichas etiquetas. Se van a conseguir con la forma *clave: valor*\n",
    "## La sintaxis es mediante llaves {}\n",
    "           ## nombre_diccionario = {clave1:valor1, clave2:valor2, clave3:valor3}\n",
    "\n",
    "# Los diccionarios son MUTABLES (poedmos modificar sus elementos), DESORDENADOS (la potencia de acceso a los \n",
    "# diccionarios es su formato clave-valor, no su orden. Aun así, el diccionario conserva el orden de los \n",
    "# elementos según los vamos insertando)"
   ]
  },
  {
   "cell_type": "code",
   "execution_count": 3,
   "id": "cecb8c0f",
   "metadata": {},
   "outputs": [
    {
     "data": {
      "text/plain": [
       "{'color': 'Rojo',\n",
       " 'marca': 'Tesla',\n",
       " 'modelo': 'Cybertruck',\n",
       " 'peso': 3500,\n",
       " 'Cambio automático': True}"
      ]
     },
     "execution_count": 3,
     "metadata": {},
     "output_type": "execute_result"
    }
   ],
   "source": [
    "# Vamos a declarar un diccionario en el que definiremos elementos de un coche\n",
    "coche_dict = {\n",
    "    \"color\": \"Rojo\",       # Tbm se puede colocar todo seguido \"color\": \"Rojo\", \"marca\": \"Testla\", .....\n",
    "    \"marca\": \"Tesla\",\n",
    "    \"modelo\": \"Cybertruck\",\n",
    "    \"peso\": 3500,\n",
    "    \"Cambio automático\": True\n",
    "}\n",
    "coche_dict"
   ]
  },
  {
   "cell_type": "code",
   "execution_count": 18,
   "id": "52fe0a26",
   "metadata": {},
   "outputs": [
    {
     "name": "stdout",
     "output_type": "stream",
     "text": [
      "['rojo', 'gris']\n",
      "3500\n",
      "{'color': ['rojo', 'gris'], 'marca': 'Tesla', 'modelo': 'Cybertruck', 'peso': 3500, 'Cambio automático': True}\n",
      "{'color': ['rojo', 'gris'], 'marca': 'Tesla', 'modelo': 'Cybertruck', 'peso': 3500, 'Cambio automático': True, 'puertas': 6}\n",
      "{'color': ['rojo', 'gris'], 'marca': 'Tesla', 'modelo': 'Cybertruck', 'peso': 3500, 'Cambio automático': True}\n"
     ]
    }
   ],
   "source": [
    "# Acceso, modificación, añadir, eleiminar elementos\n",
    "\n",
    "# ACCESO al elemento\n",
    "print(coche_dict[\"color\"])\n",
    "print(coche_dict[\"peso\"])\n",
    "\n",
    "# Si intentamos acceder por una clave que NO existe, por ejemplo puertas, la cual no esta definida\n",
    "# print(coche_dict[\"puertas\"])    # Dará ERROR (KeyError -> indica que esta clave no existe en el diccionario)\n",
    "\n",
    "# MODIFICAR elemento\n",
    "# El color lo vamos a convertir en una lista\n",
    "coche_dict[\"color\"] = [\"rojo\", \"gris\"]     # Color ahora vale rojo y gris. Y es una LISTA\n",
    "print(coche_dict)\n",
    "\n",
    "# AÑADIR elemento\n",
    "# Los diccionario no tienen elementos para añadir tipo insert o append\n",
    "coche_dict[\"puertas\"] = 6     # Agregando la clave puertas\n",
    "print(coche_dict)   # imprimiendo todo el diccionario para ver la clave\n",
    "\n",
    "# ELIMINAR elemento\n",
    "# OJO si hace del coche_dict [] -> estando vacio te CARGAS TODA la variable\n",
    "del coche_dict[\"puertas\"]        \n",
    "print(coche_dict)                # Eliminando la clave puertas creada anteriormente"
   ]
  },
  {
   "cell_type": "code",
   "execution_count": 22,
   "id": "0a033044",
   "metadata": {},
   "outputs": [
    {
     "name": "stdout",
     "output_type": "stream",
     "text": [
      "dict_keys(['color', 'marca', 'modelo', 'peso', 'Cambio automático'])\n",
      "dict_values([['rojo', 'gris'], 'Tesla', 'Cybertruck', 3500, True])\n"
     ]
    }
   ],
   "source": [
    "# Conocer las claves del diccionario\n",
    "coche_dict.keys()\n",
    "print(coche_dict.keys())\n",
    "\n",
    "# Conocer los valores del diccionario\n",
    "coche_dict.values()\n",
    "print(coche_dict.values())"
   ]
  },
  {
   "cell_type": "code",
   "execution_count": 25,
   "id": "f64e6bc2",
   "metadata": {},
   "outputs": [
    {
     "name": "stdout",
     "output_type": "stream",
     "text": [
      "{'direccion': 'Montesa 12', 'tamaño': 123}\n"
     ]
    }
   ],
   "source": [
    "# Podemos empezar también mediante un diccionario vacío\n",
    "tienda = {}\n",
    "tienda[\"direccion\"] = \"Montesa 12\"\n",
    "tienda[\"tamaño\"] = 123   # metros cuadrados\n",
    "print(tienda)"
   ]
  },
  {
   "cell_type": "code",
   "execution_count": 26,
   "id": "6a4d366a",
   "metadata": {},
   "outputs": [
    {
     "ename": "KeyError",
     "evalue": "'puertas'",
     "output_type": "error",
     "traceback": [
      "\u001b[1;31m---------------------------------------------------------------------------\u001b[0m",
      "\u001b[1;31mKeyError\u001b[0m                                  Traceback (most recent call last)",
      "Cell \u001b[1;32mIn[26], line 3\u001b[0m\n\u001b[0;32m      1\u001b[0m \u001b[38;5;66;03m# ERRORES en los diccionarios\u001b[39;00m\n\u001b[0;32m      2\u001b[0m \u001b[38;5;66;03m# 1. Intentar acceder a un elemento que no existe -> KeyError\u001b[39;00m\n\u001b[1;32m----> 3\u001b[0m \u001b[43mcoche_dict\u001b[49m\u001b[43m[\u001b[49m\u001b[38;5;124;43m\"\u001b[39;49m\u001b[38;5;124;43mpuertas\u001b[39;49m\u001b[38;5;124;43m\"\u001b[39;49m\u001b[43m]\u001b[49m\n",
      "\u001b[1;31mKeyError\u001b[0m: 'puertas'"
     ]
    }
   ],
   "source": [
    "# ERRORES en los diccionarios\n",
    "# 1. Intentar acceder a un elemento que no existe -> KeyError\n",
    "coche_dict[\"puertas\"]"
   ]
  },
  {
   "cell_type": "code",
   "execution_count": 32,
   "id": "f0d2043b",
   "metadata": {},
   "outputs": [
    {
     "name": "stdout",
     "output_type": "stream",
     "text": [
      "4\n",
      "Tesla\n"
     ]
    }
   ],
   "source": [
    "# Como solventar este error?\n",
    "# Siempre tenemos la opción de usar el bloque try/execpt, pero en este caso, los diccionarios tienen una solución\n",
    "# más elegante si no existe, le damos un valor por defecto: mi_diccionario.get(clave, valor si no existe)\n",
    "numero_de_puertas = coche_dict.get(\"puertas\",4)\n",
    "print(numero_de_puertas)\n",
    "\n",
    "marca = coche_dict.get(\"marca\",\"desconocida\")\n",
    "print(marca)"
   ]
  },
  {
   "cell_type": "code",
   "execution_count": 35,
   "id": "f8bda162",
   "metadata": {},
   "outputs": [
    {
     "name": "stdout",
     "output_type": "stream",
     "text": [
      "color\n",
      "marca\n",
      "modelo\n",
      "peso\n",
      "Cambio automático\n"
     ]
    }
   ],
   "source": [
    "# ITERAR los diccionarios\n",
    "# Que el diccionario no este orednado, no quiere decir que no podamos iterar sus elemento, ya que también \n",
    "# es un interable, como lo son las listas y las tuplas\n",
    "\n",
    "for i in coche_dict:        # Hemos iterado por las claves\n",
    "    print(i)"
   ]
  }
 ],
 "metadata": {
  "kernelspec": {
   "display_name": "Python 3",
   "language": "python",
   "name": "python3"
  },
  "language_info": {
   "codemirror_mode": {
    "name": "ipython",
    "version": 3
   },
   "file_extension": ".py",
   "mimetype": "text/x-python",
   "name": "python",
   "nbconvert_exporter": "python",
   "pygments_lexer": "ipython3",
   "version": "3.13.0"
  }
 },
 "nbformat": 4,
 "nbformat_minor": 5
}
