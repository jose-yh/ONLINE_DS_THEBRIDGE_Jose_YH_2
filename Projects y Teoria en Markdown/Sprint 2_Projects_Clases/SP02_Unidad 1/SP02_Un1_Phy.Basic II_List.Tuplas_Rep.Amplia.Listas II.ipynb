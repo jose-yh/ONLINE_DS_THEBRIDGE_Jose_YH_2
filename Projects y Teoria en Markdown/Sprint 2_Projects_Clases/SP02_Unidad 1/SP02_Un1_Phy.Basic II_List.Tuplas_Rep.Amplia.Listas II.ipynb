{
 "cells": [
  {
   "cell_type": "code",
   "execution_count": null,
   "id": "98c3da05-e07c-403f-a66b-73ec36601bfa",
   "metadata": {},
   "outputs": [],
   "source": [
    "# SP02_Un1_Phyton Basic II_Lista y Tuplas_Repaso y ampliación de Listas II\n",
    "# PYTHON COLECCIONES: LISTAS\n",
    "    # "
   ]
  },
  {
   "cell_type": "code",
   "execution_count": null,
   "id": "04e8f08b",
   "metadata": {},
   "outputs": [],
   "source": [
    "# ELIMINAR ELEMENTOS\n",
    "# Para eliminar elementos se usa el comando remove, el cual permite eliminar el elemento por VALOR. Si no existe, \n",
    "# da error, así que cuidado con esta sentencia.\n",
    "# En ocasiones resulta útil quedarnos con el elemento eliminado. Para ello usamos pop() (el cual elimina el \n",
    "# elemento por INDICE), que elimina el elemento que le indiquemos, y además devuelve ese elemento por lo que \n",
    "# podremos guardarlo en una variable para usarlo después."
   ]
  },
  {
   "cell_type": "code",
   "execution_count": 1,
   "id": "5e89bd71",
   "metadata": {},
   "outputs": [
    {
     "name": "stdout",
     "output_type": "stream",
     "text": [
      "['Seat', 'BMW', 'VW']\n"
     ]
    }
   ],
   "source": [
    "# .remove()\n",
    "cars = [\"VW\", \"Seat\", \"BMW\", \"VW\"]   # Vamos a eliminar VW\n",
    "cars.remove(\"VW\")                    # Eliminará la primera ocurrencia del elemento que indicamos VW, si queremos\n",
    "print(cars)                          # eliminar el otrop, deberiamos hacer otro remove"
   ]
  },
  {
   "cell_type": "code",
   "execution_count": 2,
   "id": "b26f71e8",
   "metadata": {},
   "outputs": [
    {
     "name": "stdout",
     "output_type": "stream",
     "text": [
      "['VW', 'BMW', 'VW']\n",
      "Seat\n"
     ]
    }
   ],
   "source": [
    "# .pop()\n",
    "# Eliminar elementos por inidce, y guardar ese valor en una variable\n",
    "cars = [\"VW\", \"Seat\", \"BMW\", \"VW\"]\n",
    "eliminado = cars.pop(1)          # Ojo, se debe colocar el indice de \"Seat\", el cual es 1\n",
    "print(cars)                      # Resultado: [\"VW\", \"BMW\", \"VW\"]\n",
    "print(eliminado)                 # Capturamos el valor, por si después queremos utilizarlo. Resultado: Seat"
   ]
  },
  {
   "cell_type": "code",
   "execution_count": 6,
   "id": "098cac67",
   "metadata": {},
   "outputs": [
    {
     "ename": "ValueError",
     "evalue": "list.remove(x): x not in list",
     "output_type": "error",
     "traceback": [
      "\u001b[1;31m---------------------------------------------------------------------------\u001b[0m",
      "\u001b[1;31mValueError\u001b[0m                                Traceback (most recent call last)",
      "Cell \u001b[1;32mIn[6], line 3\u001b[0m\n\u001b[0;32m      1\u001b[0m \u001b[38;5;66;03m# ERRORES remove\u001b[39;00m\n\u001b[0;32m      2\u001b[0m cars \u001b[38;5;241m=\u001b[39m [\u001b[38;5;124m\"\u001b[39m\u001b[38;5;124mVW\u001b[39m\u001b[38;5;124m\"\u001b[39m, \u001b[38;5;124m\"\u001b[39m\u001b[38;5;124mSeat\u001b[39m\u001b[38;5;124m\"\u001b[39m, \u001b[38;5;124m\"\u001b[39m\u001b[38;5;124mBMW\u001b[39m\u001b[38;5;124m\"\u001b[39m, \u001b[38;5;124m\"\u001b[39m\u001b[38;5;124mVW\u001b[39m\u001b[38;5;124m\"\u001b[39m]\n\u001b[1;32m----> 3\u001b[0m \u001b[43mcars\u001b[49m\u001b[38;5;241;43m.\u001b[39;49m\u001b[43mremove\u001b[49m\u001b[43m(\u001b[49m\u001b[38;5;124;43m\"\u001b[39;49m\u001b[38;5;124;43mTesla\u001b[39;49m\u001b[38;5;124;43m\"\u001b[39;49m\u001b[43m)\u001b[49m\n",
      "\u001b[1;31mValueError\u001b[0m: list.remove(x): x not in list"
     ]
    }
   ],
   "source": [
    "# ERRORES remove\n",
    "cars = [\"VW\", \"Seat\", \"BMW\", \"VW\"]  # Dara error por que no encontrará Tesla\n",
    "cars.remove(\"Tesla\")"
   ]
  },
  {
   "cell_type": "code",
   "execution_count": 10,
   "id": "0f6d39b9",
   "metadata": {},
   "outputs": [
    {
     "name": "stdout",
     "output_type": "stream",
     "text": [
      "[15, 18, 22, 22, 26, 34]\n",
      "[34, 26, 22, 22, 18, 15]\n",
      "6\n",
      "[15, 18, 22, 22, 26, 34]\n",
      "2\n"
     ]
    }
   ],
   "source": [
    "# Métodos: Ordenar, tamaño, invertir orden, ocurrencia\n",
    "# www.w3schools.com/python/python_ref_list.asp\n",
    "\n",
    "degrees = [22, 34, 15, 26, 18, 22]\n",
    "\n",
    "# ORDENAR -> se utlisa sort()\n",
    "degrees.sort()\n",
    "print(degrees)      # Nos dará la lista de forma ascendente\n",
    "\n",
    "degrees.sort(reverse = True)    # Se utiliza reverse = True para ordenar la lista de forma descendente\n",
    "print(degrees)                  # Nos dará la lista de forma descendente\n",
    "\n",
    "# CONTAR el número de elementos -> se utiliza len()\n",
    "print(len(degrees))             # Reultado: 6\n",
    "\n",
    "# INVERTIR la lista -> Se utiliza reverse()\n",
    "degrees.reverse()\n",
    "print(degrees)\n",
    "\n",
    "# OCURRENCIA de elementos -> Se utiliza count()\n",
    "# Ees para saber el número de veces que aparece un elemento en una lista \n",
    "print(degrees.count(22))     # Resultado: 2 veces"
   ]
  },
  {
   "cell_type": "code",
   "execution_count": 14,
   "id": "48582016",
   "metadata": {},
   "outputs": [
    {
     "ename": "IndexError",
     "evalue": "list index out of range",
     "output_type": "error",
     "traceback": [
      "\u001b[1;31m---------------------------------------------------------------------------\u001b[0m",
      "\u001b[1;31mIndexError\u001b[0m                                Traceback (most recent call last)",
      "Cell \u001b[1;32mIn[14], line 8\u001b[0m\n\u001b[0;32m      5\u001b[0m degrees \u001b[38;5;241m=\u001b[39m [\u001b[38;5;241m22\u001b[39m, \u001b[38;5;241m34\u001b[39m, \u001b[38;5;241m15\u001b[39m, \u001b[38;5;241m26\u001b[39m, \u001b[38;5;241m18\u001b[39m, \u001b[38;5;241m22\u001b[39m]\n\u001b[0;32m      7\u001b[0m \u001b[38;5;66;03m# Poner un elemento que no existe 123. Dará error, porque esta fuera de rango\u001b[39;00m\n\u001b[1;32m----> 8\u001b[0m \u001b[38;5;28mprint\u001b[39m(\u001b[43mdegrees\u001b[49m\u001b[43m[\u001b[49m\u001b[38;5;241;43m123\u001b[39;49m\u001b[43m]\u001b[49m)\n",
      "\u001b[1;31mIndexError\u001b[0m: list index out of range"
     ]
    }
   ],
   "source": [
    "# ERRORES indice\n",
    "# Lo típico es indexar por un indice que NO existe. Si estamos accediendo al último elemento,\n",
    "# en vez de poner el número de su indice, poner mejor -1, y asi evitamos errores\n",
    "\n",
    "degrees = [22, 34, 15, 26, 18, 22]\n",
    "\n",
    "# Poner un elemento que no existe 123. Dará error, porque esta fuera de rango\n",
    "print(degrees[123])"
   ]
  },
  {
   "cell_type": "code",
   "execution_count": 15,
   "id": "04446a4c",
   "metadata": {},
   "outputs": [
    {
     "ename": "IndexError",
     "evalue": "list index out of range",
     "output_type": "error",
     "traceback": [
      "\u001b[1;31m---------------------------------------------------------------------------\u001b[0m",
      "\u001b[1;31mIndexError\u001b[0m                                Traceback (most recent call last)",
      "Cell \u001b[1;32mIn[15], line 2\u001b[0m\n\u001b[0;32m      1\u001b[0m \u001b[38;5;66;03m# Como no sabemos cuál es el último indice, lo mejor es acceder por longitud:\u001b[39;00m\n\u001b[1;32m----> 2\u001b[0m ultimo_elemento \u001b[38;5;241m=\u001b[39m \u001b[43mdegrees\u001b[49m\u001b[43m[\u001b[49m\u001b[38;5;28;43mlen\u001b[39;49m\u001b[43m(\u001b[49m\u001b[43mdegrees\u001b[49m\u001b[43m)\u001b[49m\u001b[43m]\u001b[49m    \u001b[38;5;66;03m# Dará error, porque comienza a contar por CERO la lista.\u001b[39;00m\n",
      "\u001b[1;31mIndexError\u001b[0m: list index out of range"
     ]
    }
   ],
   "source": [
    "# Como no sabemos cuál es el último indice, lo mejor es acceder por longitud:\n",
    "ultimo_elemento = degrees[len(degrees)]    # Dará error, porque comienza a contar por CERO la lista."
   ]
  },
  {
   "cell_type": "code",
   "execution_count": 18,
   "id": "fd2cd432",
   "metadata": {},
   "outputs": [
    {
     "name": "stdout",
     "output_type": "stream",
     "text": [
      "22\n"
     ]
    }
   ],
   "source": [
    "# Lo mejor es poner el -1, para indexar el último elemento de la lista sin saber cuál es\n",
    "ultimo_elemento = degrees[len(degrees) -1]   # Dará como resultado el último elemento 22\n",
    "print(ultimo_elemento)"
   ]
  }
 ],
 "metadata": {
  "kernelspec": {
   "display_name": "Python 3",
   "language": "python",
   "name": "python3"
  },
  "language_info": {
   "codemirror_mode": {
    "name": "ipython",
    "version": 3
   },
   "file_extension": ".py",
   "mimetype": "text/x-python",
   "name": "python",
   "nbconvert_exporter": "python",
   "pygments_lexer": "ipython3",
   "version": "3.13.0"
  }
 },
 "nbformat": 4,
 "nbformat_minor": 5
}
