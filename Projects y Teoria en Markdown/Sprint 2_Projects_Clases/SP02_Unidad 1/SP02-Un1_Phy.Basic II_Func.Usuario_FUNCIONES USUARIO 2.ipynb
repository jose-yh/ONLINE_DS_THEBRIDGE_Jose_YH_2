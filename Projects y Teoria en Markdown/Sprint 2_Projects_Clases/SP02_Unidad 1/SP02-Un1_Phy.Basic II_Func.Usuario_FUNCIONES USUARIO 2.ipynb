{
 "cells": [
  {
   "cell_type": "code",
   "execution_count": null,
   "id": "98c3da05-e07c-403f-a66b-73ec36601bfa",
   "metadata": {},
   "outputs": [],
   "source": [
    "# SP02_Un1_Phyton Basic II_Funciones Usuario - FUNCIONES USUARIO 2"
   ]
  },
  {
   "cell_type": "code",
   "execution_count": null,
   "id": "9a480309",
   "metadata": {},
   "outputs": [],
   "source": [
    "# En el capitulo anterior, hicimos un ejemplo que nos devolvía un resultado (output) que podiamos almacenar en una variable....\n",
    "# pero las fucniones tampoco tienen porqué llevar un RETURN. No siempre es necesario un output. En tal caso, devuelve None"
   ]
  },
  {
   "cell_type": "code",
   "execution_count": 1,
   "id": "51e72c6b",
   "metadata": {},
   "outputs": [],
   "source": [
    "from datetime import datetime\n",
    "\n",
    "def que_hora_es():\n",
    "    now = datetime.now().time()\n",
    "    print(now)"
   ]
  },
  {
   "cell_type": "code",
   "execution_count": 2,
   "id": "9a1d5e20",
   "metadata": {},
   "outputs": [
    {
     "name": "stdout",
     "output_type": "stream",
     "text": [
      "16:10:39.616418\n",
      "None <class 'NoneType'>\n"
     ]
    }
   ],
   "source": [
    "# Asignamos a la variable hora, que hora es\n",
    "hora = que_hora_es()      # Al llamar a la función nos ha hecho el print de la hora\n",
    "print(hora, type(hora))   # Al hacer el print de lo que contiene la VARIABLE hora, vemos que tiene NONE y que es del tipo NoneType. \n",
    "                          # Todas las funciones aunque NO tengas RETURN, van a devolver algo, y si ese algo si no tiene return es NONE\n",
    "                          "
   ]
  },
  {
   "cell_type": "code",
   "execution_count": 3,
   "id": "ddd86d53",
   "metadata": {},
   "outputs": [
    {
     "ename": "NameError",
     "evalue": "name 'now' is not defined",
     "output_type": "error",
     "traceback": [
      "\u001b[1;31m---------------------------------------------------------------------------\u001b[0m",
      "\u001b[1;31mNameError\u001b[0m                                 Traceback (most recent call last)",
      "Cell \u001b[1;32mIn[3], line 1\u001b[0m\n\u001b[1;32m----> 1\u001b[0m \u001b[38;5;28mprint\u001b[39m(\u001b[43mnow\u001b[49m)   \u001b[38;5;66;03m# Dará error, porque la NOW no esta definida, NOW vive y solo vive dentro de la función, y una vez que se ejecuta la función\u001b[39;00m\n\u001b[0;32m      2\u001b[0m                \u001b[38;5;66;03m# now DESAPARECE, por lo tanto, now ya no existe como variable.\u001b[39;00m\n",
      "\u001b[1;31mNameError\u001b[0m: name 'now' is not defined"
     ]
    }
   ],
   "source": [
    "print(now)   # Dará error, porque la NOW no esta definida, NOW vive y solo vive dentro de la función, y una vez que se ejecuta la función\n",
    "               # now DESAPARECE, por lo tanto, now ya no existe como variable."
   ]
  },
  {
   "cell_type": "code",
   "execution_count": null,
   "id": "0c82af0f",
   "metadata": {},
   "outputs": [],
   "source": [
    "# Poner varias salidas en un miemo RETURN. En este caso, si no se especifica nada más la salida de la función será un tipo \"TUPLA\" (tuple). \n",
    "# Pero generalment los agrupamos en una colección\n",
    "def conversor_km_millas(distancia):\n",
    "    millas = 0.62 * distancia\n",
    "    return round(millas,1)"
   ]
  },
  {
   "cell_type": "code",
   "execution_count": 13,
   "id": "86dc70d9",
   "metadata": {},
   "outputs": [],
   "source": [
    "# Aquí mejoramos la función, nos piden sin redondear, además de tenerlo en metros\n",
    "def conversor_km_millas(distancia):\n",
    "    millas = 0.62 * distancia\n",
    "    metros = 1000 * distancia          # Conversion a metros que es la distancia en km\n",
    "    return round(millas,1), millas, metros  # Aquí el valor que deseo devolver redondeado,  sin redondear, y convertido a metros. Esto será una TUPLA\n",
    "    # return [round(millas,1), millas, metros]  # si queremos convertirlo a una LISTA el valor anterior que es una tupla. return [round(millas,1), millas, metros]  \n"
   ]
  },
  {
   "cell_type": "code",
   "execution_count": 14,
   "id": "152a4f49",
   "metadata": {},
   "outputs": [
    {
     "name": "stdout",
     "output_type": "stream",
     "text": [
      "(137.0, 137.02, 221000)\n",
      "<class 'tuple'>\n"
     ]
    }
   ],
   "source": [
    "# Ahora la función anterior nos va adevolver TRES valores. PRIMERO, la ejecutamos, SEGUNDO añadiremos una celda\n",
    "salida = conversor_km_millas(221)    # Nos devolverá las millas REDONDEADAS (137.0), las millas con DECIMALES (137.02), la CONVERSION a metros (221000)\n",
    "print(salida)                        # El resultado es una TUPLA, porque estan entre ()\n",
    "print(type(salida))                  # Si hemos registrado CORCHETES [] en la función para que salga una lista, el resultado estará entre corchetes\n"
   ]
  },
  {
   "cell_type": "code",
   "execution_count": 16,
   "id": "3cb4beaa",
   "metadata": {},
   "outputs": [],
   "source": [
    "# Tipo de datos de los argumentos\n",
    "def recibe_mix(tupla, lista, diccionario):\n",
    "    print(\"tupla contiene\")\n",
    "    print(tupla)\n",
    "    print(\"y es de tipo:\", type(tupla))\n",
    "    print(\"lista contiene\")\n",
    "    print(lista)\n",
    "    print(\"y es de tipo:\", type(lista))\n",
    "    print(\"diccionario contiene\")\n",
    "    print(diccionario)\n",
    "    print(\"y es de tipo:\", type(diccionario))\n",
    "    return [type(tupla), type(lista), type(diccionario)]"
   ]
  },
  {
   "cell_type": "code",
   "execution_count": 17,
   "id": "c74686e2",
   "metadata": {},
   "outputs": [
    {
     "name": "stdout",
     "output_type": "stream",
     "text": [
      "tupla contiene\n",
      "(12, 34, 23)\n",
      "y es de tipo: <class 'tuple'>\n",
      "lista contiene\n",
      "['Esto', 'es', 'una', 'lista']\n",
      "y es de tipo: <class 'list'>\n",
      "diccionario contiene\n",
      "{'key1': 'valor'}\n",
      "y es de tipo: <class 'dict'>\n"
     ]
    },
    {
     "data": {
      "text/plain": [
       "[tuple, list, dict]"
      ]
     },
     "execution_count": 17,
     "metadata": {},
     "output_type": "execute_result"
    }
   ],
   "source": [
    "recibe_mix((12,34,23), [\"Esto\",\"es\",\"una\",\"lista\"], {\"key1\": \"valor\"})"
   ]
  },
  {
   "cell_type": "code",
   "execution_count": 18,
   "id": "49be4c09",
   "metadata": {},
   "outputs": [
    {
     "name": "stdout",
     "output_type": "stream",
     "text": [
      "tupla contiene\n",
      "1\n",
      "y es de tipo: <class 'int'>\n",
      "lista contiene\n",
      "Hola\n",
      "y es de tipo: <class 'str'>\n",
      "diccionario contiene\n",
      "True\n",
      "y es de tipo: <class 'bool'>\n"
     ]
    },
    {
     "data": {
      "text/plain": [
       "[int, str, bool]"
      ]
     },
     "execution_count": 18,
     "metadata": {},
     "output_type": "execute_result"
    }
   ],
   "source": [
    "recibe_mix(1,\"Hola\", True)"
   ]
  },
  {
   "cell_type": "code",
   "execution_count": 21,
   "id": "14fd0b69",
   "metadata": {},
   "outputs": [
    {
     "name": "stdout",
     "output_type": "stream",
     "text": [
      "124.0\n"
     ]
    },
    {
     "ename": "NameError",
     "evalue": "name 'millas' is not defined",
     "output_type": "error",
     "traceback": [
      "\u001b[1;31m---------------------------------------------------------------------------\u001b[0m",
      "\u001b[1;31mNameError\u001b[0m                                 Traceback (most recent call last)",
      "Cell \u001b[1;32mIn[21], line 11\u001b[0m\n\u001b[0;32m      8\u001b[0m     \u001b[38;5;28;01mreturn\u001b[39;00m \u001b[38;5;28mround\u001b[39m(millas,\u001b[38;5;241m2\u001b[39m)\n\u001b[0;32m     10\u001b[0m \u001b[38;5;28mprint\u001b[39m(km2millas(\u001b[38;5;241m200\u001b[39m))  \u001b[38;5;66;03m# Resultado: 124\u001b[39;00m\n\u001b[1;32m---> 11\u001b[0m \u001b[38;5;28mprint\u001b[39m(\u001b[43mmillas\u001b[49m)          \u001b[38;5;66;03m# Esto dará ERROR porque (millas) es una variable que se ha creado DENTRO de la función (km2millas)\u001b[39;00m\n",
      "\u001b[1;31mNameError\u001b[0m: name 'millas' is not defined"
     ]
    }
   ],
   "source": [
    "# ERRORES tipicos con funciones\n",
    "\n",
    "# ERRORES variables de la función\n",
    "## Todo lo que declaremos dentro de la función se crea UNICAMENTE para la función\n",
    "## Fuera del misma, esas variables NO existen\n",
    "def km2millas(dist):\n",
    "    millas = dist * 0.62\n",
    "    return round(millas,2)\n",
    "\n",
    "print(km2millas(200))  # Resultado: 124\n",
    "print(millas)          # Esto dará ERROR porque (millas) es una variable que se ha creado DENTRO de la función (km2millas)\n"
   ]
  },
  {
   "cell_type": "code",
   "execution_count": 26,
   "id": "6ee13204",
   "metadata": {},
   "outputs": [
    {
     "data": {
      "text/plain": [
       "1"
      ]
     },
     "execution_count": 26,
     "metadata": {},
     "output_type": "execute_result"
    }
   ],
   "source": [
    "# El error anterior, es porque se crear una namespace interno dentro de las funciones, es decir, que lo que declaremos dentro. No lo podremos usar\n",
    "# fuera. Además, ten en cuenta que todo lo que introduzcamos dentro de los flujos de control(if/else, bucles, ..), nos vale para el resto de la función\n",
    "def numero_ifs(numero):\n",
    "    if numero == 1:\n",
    "        out = 1\n",
    "        return out\n",
    "\n",
    "numero_ifs(1)"
   ]
  },
  {
   "cell_type": "code",
   "execution_count": 27,
   "id": "6e287a80",
   "metadata": {},
   "outputs": [],
   "source": [
    "numero_ifs(2)"
   ]
  },
  {
   "cell_type": "code",
   "execution_count": 28,
   "id": "069db7a0",
   "metadata": {},
   "outputs": [
    {
     "ename": "TypeError",
     "evalue": "km2millas() missing 1 required positional argument: 'dist'",
     "output_type": "error",
     "traceback": [
      "\u001b[1;31m---------------------------------------------------------------------------\u001b[0m",
      "\u001b[1;31mTypeError\u001b[0m                                 Traceback (most recent call last)",
      "Cell \u001b[1;32mIn[28], line 2\u001b[0m\n\u001b[0;32m      1\u001b[0m \u001b[38;5;66;03m# Si no introducimos argumentos en una función que SI tiene argumentos, salta el error de este estilo\u001b[39;00m\n\u001b[1;32m----> 2\u001b[0m millas \u001b[38;5;241m=\u001b[39m \u001b[43mkm2millas\u001b[49m\u001b[43m(\u001b[49m\u001b[43m)\u001b[49m\n",
      "\u001b[1;31mTypeError\u001b[0m: km2millas() missing 1 required positional argument: 'dist'"
     ]
    }
   ],
   "source": [
    "# Si no introducimos argumentos en una función que SI tiene argumentos, salta el error de este estilo\n",
    "millas = km2millas()  # Dará ERROR, el sistema dice que le falta un argumento posicional 'dist'"
   ]
  },
  {
   "cell_type": "code",
   "execution_count": 30,
   "id": "2ebf74b0",
   "metadata": {},
   "outputs": [
    {
     "ename": "IndentationError",
     "evalue": "expected an indented block after function definition on line 2 (3328645805.py, line 3)",
     "output_type": "error",
     "traceback": [
      "\u001b[1;36m  Cell \u001b[1;32mIn[30], line 3\u001b[1;36m\u001b[0m\n\u001b[1;33m    print(otro_argumento)\u001b[0m\n\u001b[1;37m    ^\u001b[0m\n\u001b[1;31mIndentationError\u001b[0m\u001b[1;31m:\u001b[0m expected an indented block after function definition on line 2\n"
     ]
    }
   ],
   "source": [
    "# CUIDADO también con la sintaxis de linea. Después de dos puntos : , viene todo el bloque de código tabulado, de la función\n",
    "def mala_funcion(otro_argumento):\n",
    "print(otro_argumento)      # Dará ERROR, porque tiene que estar indexado a la derecha (4 espacios)\n",
    "return [otro_argumento]\n"
   ]
  },
  {
   "cell_type": "code",
   "execution_count": null,
   "id": "73521b5b",
   "metadata": {},
   "outputs": [],
   "source": []
  }
 ],
 "metadata": {
  "kernelspec": {
   "display_name": "Python 3",
   "language": "python",
   "name": "python3"
  },
  "language_info": {
   "codemirror_mode": {
    "name": "ipython",
    "version": 3
   },
   "file_extension": ".py",
   "mimetype": "text/x-python",
   "name": "python",
   "nbconvert_exporter": "python",
   "pygments_lexer": "ipython3",
   "version": "3.13.0"
  }
 },
 "nbformat": 4,
 "nbformat_minor": 5
}
