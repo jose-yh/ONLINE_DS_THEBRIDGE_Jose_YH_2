{
 "cells": [
  {
   "cell_type": "code",
   "execution_count": null,
   "id": "98c3da05-e07c-403f-a66b-73ec36601bfa",
   "metadata": {},
   "outputs": [],
   "source": [
    "# SP02_Un1_Phyton Basic II_Lista y Tuplas_TUPLAS\n",
    "# Las tuplas son muy similares a las lista. \n",
    "# La principal diferencia con las listas, es que si LISTAS son ORDENADAS y MUTABLES, las cuales se pueden agregar\n",
    "# elementos una vez definidas o modificando los propios elementos que contienen las listas.\n",
    "# Una TUPLA una vez que la hayamos construido ya NO se podrán cambiar a lo largo del programa, como es l caso de las constantes.\n",
    "# Si la lista se construían con corchetes [], las tuplas lo hacen con paréntesis ()"
   ]
  },
  {
   "cell_type": "code",
   "execution_count": 2,
   "id": "89cbdde7",
   "metadata": {},
   "outputs": [
    {
     "name": "stdout",
     "output_type": "stream",
     "text": [
      "(3, 'Texto')\n",
      "<class 'tuple'>\n"
     ]
    }
   ],
   "source": [
    "# TUPLAS:\n",
    "tupla_ejemplo = (3, \"Texto\")     # Ojo son colecciones de tipo mixto, se puede mezclar numeros y textos,\n",
    "                                # como las listas\n",
    "print(tupla_ejemplo)\n",
    "print(type(tupla_ejemplo))"
   ]
  },
  {
   "cell_type": "code",
   "execution_count": 5,
   "id": "dd42ef18",
   "metadata": {},
   "outputs": [
    {
     "name": "stdout",
     "output_type": "stream",
     "text": [
      "El primer elemento es 3\n",
      "El segundo elemento es Texto\n"
     ]
    }
   ],
   "source": [
    "# Para acceder a un elemento de una tupla se utiliza el indexado\n",
    "print(\"El primer elemento es\", tupla_ejemplo[0])\n",
    "print(\"El segundo elemento es\", tupla_ejemplo[1])"
   ]
  },
  {
   "cell_type": "code",
   "execution_count": 7,
   "id": "a26392f9",
   "metadata": {},
   "outputs": [
    {
     "name": "stdout",
     "output_type": "stream",
     "text": [
      "<class 'int'> 24\n",
      "<class 'tuple'> (24,)\n"
     ]
    }
   ],
   "source": [
    "# NOTA:\n",
    "# Los paréntesis ya se usan para reordenar operaciones 5*(3 + 4), por lo que hay que añadir una COMA \n",
    "# cuando definamos una TUPLA con un único elemento sino Python lo interpretará como un número.\n",
    "\n",
    "# mala tupla:\n",
    "mala_tupla = (24)                      # Ojo NO tiene COMA\n",
    "print(type(mala_tupla), mala_tupla)    # Resultado: <class 'int'> 24\n",
    "\n",
    "# buena tupla\n",
    "buena_tupla = (24,)     # Se DEBE colocar la COMA\n",
    "print(type(buena_tupla), buena_tupla)   # Resultado: <class 'tuple'> 24"
   ]
  },
  {
   "cell_type": "code",
   "execution_count": 8,
   "id": "59abd0fd",
   "metadata": {},
   "outputs": [
    {
     "name": "stdout",
     "output_type": "stream",
     "text": [
      "(1, 2, 3, ('A', 'B', 'C'))\n",
      "4\n"
     ]
    }
   ],
   "source": [
    "# Anidación de tuplas\n",
    "tupla_anid = (1, 2, 3, (\"A\", \"B\", \"C\"))      # Esto es otra tupla: (\"A\", \"B\", \"C\")\n",
    "print(tupla_anid)                            # Esto anida la tupla (\"A\", \"B\", \"C\") a la anterior\n",
    "print(len(tupla_anid))                       # Para saber la longitud de la tupla. Resultado: 4. "
   ]
  },
  {
   "cell_type": "code",
   "execution_count": 9,
   "id": "cf6de044",
   "metadata": {},
   "outputs": [
    {
     "name": "stdout",
     "output_type": "stream",
     "text": [
      "3\n",
      "B\n"
     ]
    }
   ],
   "source": [
    "# Veamos como acceder a los elementos de la tupla anterior\n",
    "tupla_anid = (1, 2, 3, (\"A\", \"B\", \"C\"))\n",
    "print(tupla_anid[2])         # El indice 2 es la tupla con número 3\n",
    "print(tupla_anid[3][1])      # El indice 3 es la tupla (\"A\", \"B\", \"C\"), y el indice 1 de esta tupla es B"
   ]
  },
  {
   "cell_type": "code",
   "execution_count": 10,
   "id": "47ae5849",
   "metadata": {},
   "outputs": [
    {
     "name": "stdout",
     "output_type": "stream",
     "text": [
      "1\n",
      "2\n",
      "3\n",
      "('A', 'B', 'C')\n"
     ]
    }
   ],
   "source": [
    "# Son iterables. Es decir, podemos recorrerlas con un BUCLE for\n",
    "tupla_anid = (1, 2, 3, (\"A\", \"B\", \"C\"))\n",
    "for i in tupla_anid:       # Esto va a recorrer todos los elementos de la tupla\n",
    "    print(i)"
   ]
  },
  {
   "cell_type": "code",
   "execution_count": 11,
   "id": "354f622e",
   "metadata": {},
   "outputs": [
    {
     "name": "stdout",
     "output_type": "stream",
     "text": [
      "(3, ('A', 'B', 'C'))\n"
     ]
    }
   ],
   "source": [
    "# SLICING con las Tuplas\n",
    "tupla_anid = (1, 2, 3, (\"A\", \"B\", \"C\"))\n",
    "tupla_bis = tupla_anid[2:]      # El indice 2 es 3, y como dice hasta el final es (\"A\", \"B\", \"C\")\n",
    "print(tupla_bis)                # Resultado: (3, ('A', 'B', 'C'))"
   ]
  },
  {
   "cell_type": "code",
   "execution_count": 12,
   "id": "e6972313",
   "metadata": {},
   "outputs": [
    {
     "ename": "TypeError",
     "evalue": "'tuple' object does not support item assignment",
     "output_type": "error",
     "traceback": [
      "\u001b[1;31m---------------------------------------------------------------------------\u001b[0m",
      "\u001b[1;31mTypeError\u001b[0m                                 Traceback (most recent call last)",
      "Cell \u001b[1;32mIn[12], line 4\u001b[0m\n\u001b[0;32m      1\u001b[0m \u001b[38;5;66;03m# ERRORES con las tuplas\u001b[39;00m\n\u001b[0;32m      2\u001b[0m \u001b[38;5;66;03m# El principal error es tratarlas como mutables. Las TUPLAS son INMUTABLES y una vez creadas ya som modificable.\u001b[39;00m\n\u001b[0;32m      3\u001b[0m tupla_error \u001b[38;5;241m=\u001b[39m (\u001b[38;5;241m1\u001b[39m, \u001b[38;5;241m2\u001b[39m, \u001b[38;5;241m3\u001b[39m, \u001b[38;5;241m4\u001b[39m, \u001b[38;5;241m5\u001b[39m)\n\u001b[1;32m----> 4\u001b[0m \u001b[43mtupla_error\u001b[49m\u001b[43m[\u001b[49m\u001b[38;5;241;43m3\u001b[39;49m\u001b[43m]\u001b[49m \u001b[38;5;241m=\u001b[39m \u001b[38;5;241m23\u001b[39m   \u001b[38;5;66;03m# Dará error porque no soporta asignacion de items. Tampo acepta append (añadir al final de la lisa)\u001b[39;00m\n",
      "\u001b[1;31mTypeError\u001b[0m: 'tuple' object does not support item assignment"
     ]
    }
   ],
   "source": [
    "# ERRORES con las tuplas\n",
    "# El principal error es tratarlas como mutables. Las TUPLAS son INMUTABLES y una vez creadas ya som modificable.\n",
    "tupla_error = (1, 2, 3, 4, 5)\n",
    "tupla_error[3] = 23   # Dará error porque no soporta asignacion de items. Tampo acepta append (añadir al final de la lisa)\n"
   ]
  },
  {
   "cell_type": "code",
   "execution_count": 15,
   "id": "5885e3ef",
   "metadata": {},
   "outputs": [
    {
     "name": "stdout",
     "output_type": "stream",
     "text": [
      "(1, 2, 3, 4, 5, 6)\n",
      "(1, 2, 3, 4, 5, 6)\n",
      "(1, 2, 3, 4, 5, 6)\n"
     ]
    }
   ],
   "source": [
    "# Si queremos añadir elementos, podemos meterlos en otra tupla y sumarlas. Esto es CONCATENAR\n",
    "tupla_1 = (1,2,3)\n",
    "tupla_2 = (4, 5, 6)\n",
    "print(tupla_1 + tupla_2)     # Resultado: (1, 2, 3, 4, 5, 6)\n",
    "\n",
    "tupla_3 = tupla_1 + tupla_2\n",
    "tupla_1 = tupla_1 + tupla_2    # No estamos modificando la tupla_1, estamos añadiendo la tupla_1 a la tupla_1\n",
    "print(tupla_3)\n",
    "print(tupla_1)   # El resultado de esta tupla, NO tiene el mismo valor que la tupla_1 del principio, porque  \n",
    "                 # hemos reasignado la tupla. OJO, NO la hemos modificado la tupla en si"
   ]
  },
  {
   "cell_type": "code",
   "execution_count": 23,
   "id": "30b92175",
   "metadata": {},
   "outputs": [
    {
     "name": "stdout",
     "output_type": "stream",
     "text": [
      "['Fresas', ('naranjas', 'limones'), 'kiwis'] <class 'list'>\n",
      "('Fresas', ['naranjas', 'limones'], 'kiwis') <class 'tuple'>\n"
     ]
    }
   ],
   "source": [
    "# Listas y tuplas \n",
    "lista_ejemplo = [\"Fresas\", (\"naranjas\", \"limones\"), \"kiwis\"]    # Esto es una LISTA que contiene una tupla\n",
    "                                                                # La lista tiene CORCHETES []\n",
    "\n",
    "tupla_lista = (\"Fresas\", [\"naranjas\", \"limones\"], \"kiwis\")      # Esto es una TUPLA que contiene una lista\n",
    "                                                                # Las tuplas tienen PARENTESIS ()\n",
    "print(lista_ejemplo, type(lista_ejemplo))\n",
    "print(tupla_lista, type(tupla_lista))\n"
   ]
  }
 ],
 "metadata": {
  "kernelspec": {
   "display_name": "Python 3",
   "language": "python",
   "name": "python3"
  },
  "language_info": {
   "codemirror_mode": {
    "name": "ipython",
    "version": 3
   },
   "file_extension": ".py",
   "mimetype": "text/x-python",
   "name": "python",
   "nbconvert_exporter": "python",
   "pygments_lexer": "ipython3",
   "version": "3.13.0"
  }
 },
 "nbformat": 4,
 "nbformat_minor": 5
}
