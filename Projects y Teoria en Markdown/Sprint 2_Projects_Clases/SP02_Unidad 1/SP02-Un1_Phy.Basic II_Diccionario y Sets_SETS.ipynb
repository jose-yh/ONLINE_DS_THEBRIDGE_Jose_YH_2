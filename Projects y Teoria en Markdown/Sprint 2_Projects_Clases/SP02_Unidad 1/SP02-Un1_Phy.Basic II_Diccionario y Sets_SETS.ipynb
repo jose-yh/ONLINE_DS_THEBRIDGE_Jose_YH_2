{
 "cells": [
  {
   "cell_type": "code",
   "execution_count": null,
   "id": "98c3da05-e07c-403f-a66b-73ec36601bfa",
   "metadata": {},
   "outputs": [],
   "source": [
    "# SP02_Un1_Phyton Basic II_Diccionarios y Sets_Diccionarios - SETS\n",
    "# A diferencia de las listas NO son ORDENADOS, son MUTABLES y tienen ELEENTOS UNICOS (es decir, un set NO \n",
    "# tiene un elemento DUPLICADO)\n",
    "\n",
    "# ¿Cuándo usar sets?\n",
    "# Cuando estemos buscando unicidad en nuestros datos y NO nos IMPORTE el ORDEN\n",
    "# Sintaxis:  mi_set = {elemento1, elemento2, elemento3}"
   ]
  },
  {
   "cell_type": "code",
   "execution_count": 3,
   "id": "4c90865b",
   "metadata": {},
   "outputs": [
    {
     "name": "stdout",
     "output_type": "stream",
     "text": [
      "4\n",
      "{'verde', 'naranja', 'rojo', 'azul'}\n",
      "<class 'set'>\n"
     ]
    }
   ],
   "source": [
    "colores = {\"azul\", \"rojo\", \"verde\", \"naranja\", \"azul\", \"verde\"}\n",
    "print(len(colores))\n",
    "print(colores)\n",
    "print(type(colores))"
   ]
  },
  {
   "cell_type": "code",
   "execution_count": 5,
   "id": "56edf5ae",
   "metadata": {},
   "outputs": [
    {
     "name": "stdout",
     "output_type": "stream",
     "text": [
      "{'azul', 'magenta', 'rojo', 'verde', 'naranja'}\n",
      "{'azul', 'magenta', 'rojo', 'burdeos', 'celeste', 'verde', 'naranja'}\n",
      "azul\n",
      "magenta\n",
      "rojo\n",
      "burdeos\n",
      "celeste\n",
      "verde\n",
      "naranja\n"
     ]
    }
   ],
   "source": [
    "# AÑADIR colores\n",
    "colores = {\"azul\", \"rojo\", \"verde\", \"naranja\", \"azul\", \"verde\"}\n",
    "colores.add(\"magenta\")\n",
    "print(colores)\n",
    "\n",
    "\n",
    "# AÑADIR una lista de colores\n",
    "colores.update([\"celeste\",\"burdeos\",\"naranja\"])  # NO agregará NARANJA porque los set tienen valoes UNICOS,\n",
    "                                                 # Ha ignorado la entrada del colo naranja\n",
    "print(colores)\n",
    "\n",
    "# Son ITERABLES   # Podemos recoirrer la lista con un BUCLE\n",
    "for color in colores:\n",
    "    print(color)\n"
   ]
  },
  {
   "cell_type": "code",
   "execution_count": 6,
   "id": "bceacfef",
   "metadata": {},
   "outputs": [
    {
     "data": {
      "text/plain": [
       "True"
      ]
     },
     "execution_count": 6,
     "metadata": {},
     "output_type": "execute_result"
    }
   ],
   "source": [
    "# Para comprobar si dos sets tienen los mismos elementos\n",
    "\n",
    "set1 = {1,2,4,4,2,1,2,1}\n",
    "set2 = {2,1,4}\n",
    "set1 == set2     # Va a comprarar == Dará como resultadoo True, porque como no estan ordenados NO se repiten"
   ]
  },
  {
   "cell_type": "code",
   "execution_count": 8,
   "id": "0c874f2e",
   "metadata": {},
   "outputs": [
    {
     "name": "stdout",
     "output_type": "stream",
     "text": [
      "{32, 100, 10, 45, 15, 23}\n",
      "[32, 100, 10, 45, 15, 23]\n"
     ]
    }
   ],
   "source": [
    "# Para QUITAR Duplicados de la lista. Primero se DEDE pasar la lista a un SET y luego a una LISTA\n",
    "lista_con = [100,10,23,23,15,32,45,10,100,23]\n",
    "print(set(lista_con))       # Con esto obtengo un set SIN Duplicados {32,100,10,45,15,23} con {}\n",
    "\n",
    "# Ahora\n",
    "print(list(set(lista_con)))    # Con esto obtenemos la lista sin duplicados en []\n"
   ]
  },
  {
   "cell_type": "code",
   "execution_count": 9,
   "id": "927df400",
   "metadata": {},
   "outputs": [
    {
     "name": "stdout",
     "output_type": "stream",
     "text": [
      "[100, 10, 23, 23, 15, 32, 45, 10, 100, 23]\n",
      "[32, 100, 10, 45, 15, 23]\n"
     ]
    }
   ],
   "source": [
    "# Ahora debo asignar a la variable original del set a partir de la lista original. De esta manera le quito los duplicados\n",
    "lista_con = [100,10,23,23,15,32,45,10,100,23]\n",
    "print(lista_con)                       # Con esto obtengo la lista original [100, 10, 23, 23, 15, 32, 45, 10, 100, 23]\n",
    "# print(set(lista_con))       \n",
    "# print(list(set(lista_con)))    \n",
    "lista_con = list(set(lista_con))       # Con esto obtenemos la lista sin duplicados [32, 100, 10, 45, 15, 23]\n",
    "print(lista_con)"
   ]
  }
 ],
 "metadata": {
  "kernelspec": {
   "display_name": "Python 3",
   "language": "python",
   "name": "python3"
  },
  "language_info": {
   "codemirror_mode": {
    "name": "ipython",
    "version": 3
   },
   "file_extension": ".py",
   "mimetype": "text/x-python",
   "name": "python",
   "nbconvert_exporter": "python",
   "pygments_lexer": "ipython3",
   "version": "3.13.0"
  }
 },
 "nbformat": 4,
 "nbformat_minor": 5
}
