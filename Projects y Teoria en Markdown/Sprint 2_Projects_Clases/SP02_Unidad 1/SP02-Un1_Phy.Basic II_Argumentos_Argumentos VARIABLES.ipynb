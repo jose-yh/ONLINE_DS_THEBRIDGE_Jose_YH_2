{
 "cells": [
  {
   "cell_type": "code",
   "execution_count": 4,
   "id": "98c3da05-e07c-403f-a66b-73ec36601bfa",
   "metadata": {},
   "outputs": [
    {
     "name": "stdout",
     "output_type": "stream",
     "text": [
      "(2, 3, 5)\n",
      "<class 'tuple'>\n",
      "(1, 2, 4, 67, 4)\n",
      "<class 'tuple'>\n"
     ]
    }
   ],
   "source": [
    "# SP02_Un1_Phyton Basic II_Argumentos - ARGUMENTOS VARIABLES\n",
    "# Es cuando tenemos UNA función con un NÚMERO INDETERMINADO de argumentos. Python nos aportan esat flexibilidad con el asterisco *\n",
    "# Veamos cómo implementar una función multiplicadora con número variable de argumentos\n",
    "\n",
    "def multiplica(*argumentos):   # Python lo interpreta como una TUPLA, lo que vas después del asterisco *\n",
    "    print(argumentos)\n",
    "    print(type(argumentos))\n",
    "\n",
    "multiplica(2,3,5)        # Da resultado como una TUPLA (2, 3, 5) <class 'tuple'>\n",
    "multiplica(1,2,4,67,4)   # Da resultado como una TUPLA (1, 2, 4, 67, 4) <class 'tuple'>\n"
   ]
  },
  {
   "cell_type": "code",
   "execution_count": 8,
   "id": "6273e8d3",
   "metadata": {},
   "outputs": [
    {
     "name": "stdout",
     "output_type": "stream",
     "text": [
      "El resultado es 40\n",
      "El resultado es 276\n",
      "El resultado es 1\n"
     ]
    },
    {
     "data": {
      "text/plain": [
       "1"
      ]
     },
     "execution_count": 8,
     "metadata": {},
     "output_type": "execute_result"
    }
   ],
   "source": [
    "# La convención en Python para utilizar un número variable de argumento es utiizar *args\n",
    "def multiplica(*args):\n",
    "    resultado = 1\n",
    "    for elemento in args:\n",
    "        resultado = resultado * elemento\n",
    "    print(\"El resultado es\", resultado)\n",
    "    return resultado\n",
    "\n",
    "multiplica(2,4,5)\n",
    "multiplica(23,12)\n",
    "multiplica()\n"
   ]
  },
  {
   "cell_type": "code",
   "execution_count": 10,
   "id": "7ffe745f",
   "metadata": {},
   "outputs": [
    {
     "name": "stdout",
     "output_type": "stream",
     "text": [
      "El siguiente elemento es 2\n",
      "El siguiente elemento es 4\n",
      "El siguiente elemento es 5\n",
      "El resultado es 40\n",
      "El siguiente elemento es 23\n",
      "El siguiente elemento es 12\n",
      "El resultado es 276\n",
      "El resultado es 1\n"
     ]
    },
    {
     "data": {
      "text/plain": [
       "1"
      ]
     },
     "execution_count": 10,
     "metadata": {},
     "output_type": "execute_result"
    }
   ],
   "source": [
    "# Si queremos adicionar otras cosas\n",
    "def multiplica(*args):\n",
    "    resultado = 1\n",
    "    for indice, elemento in enumerate(args):\n",
    "        print(\"El siguiente elemento es\", args[indice])\n",
    "        resultado = resultado * elemento\n",
    "    print(\"El resultado es\", resultado)\n",
    "    return resultado\n",
    "\n",
    "multiplica(2,4,5)\n",
    "multiplica(23,12)\n",
    "multiplica()"
   ]
  },
  {
   "cell_type": "code",
   "execution_count": 18,
   "id": "c9ab9035",
   "metadata": {},
   "outputs": [
    {
     "ename": "TypeError",
     "evalue": "multiplica_divide() missing 1 required keyword-only argument: 'div'",
     "output_type": "error",
     "traceback": [
      "\u001b[1;31m---------------------------------------------------------------------------\u001b[0m",
      "\u001b[1;31mTypeError\u001b[0m                                 Traceback (most recent call last)",
      "Cell \u001b[1;32mIn[18], line 10\u001b[0m\n\u001b[0;32m      7\u001b[0m     resultado \u001b[38;5;241m=\u001b[39m resultado \u001b[38;5;241m/\u001b[39m div\n\u001b[0;32m      8\u001b[0m     \u001b[38;5;28;01mreturn\u001b[39;00m resultado\n\u001b[1;32m---> 10\u001b[0m \u001b[43mmultiplica_divide\u001b[49m\u001b[43m(\u001b[49m\u001b[38;5;241;43m10\u001b[39;49m\u001b[43m,\u001b[49m\u001b[38;5;241;43m34\u001b[39;49m\u001b[43m,\u001b[49m\u001b[38;5;241;43m21\u001b[39;49m\u001b[43m,\u001b[49m\u001b[38;5;241;43m5\u001b[39;49m\u001b[43m)\u001b[49m \n\u001b[0;32m     12\u001b[0m \u001b[38;5;66;03m# Dará ERROR porque es un numero variable de argumentos inciales la función de Python (o INTERPRETE), no\u001b[39;00m\n\u001b[0;32m     13\u001b[0m \u001b[38;5;66;03m# sabe cuántos tiene que considerar, él esta considerando todos (en este caso) hasta el final porque son variables, entonces si no\u001b[39;00m\n\u001b[0;32m     14\u001b[0m \u001b[38;5;66;03m# especificammos el valor de div, utilizando su eqtiqueta div, él NO puede entenderlo y por lo tanto da este ERROR-\u001b[39;00m\n",
      "\u001b[1;31mTypeError\u001b[0m: multiplica_divide() missing 1 required keyword-only argument: 'div'"
     ]
    }
   ],
   "source": [
    "# Combinar argumentos POSICIONALES con los *args\n",
    "# En este ejemplo, uso el último argumento para dividir todo lo que habiamos multiplicado por este argumento\n",
    "def multiplica_divide(*args, div):\n",
    "    resultado = 1\n",
    "    for i in args:\n",
    "        resultado = resultado * i\n",
    "    resultado = resultado / div\n",
    "    return resultado\n",
    "\n",
    "multiplica_divide(10,34,21,5) \n",
    "\n",
    "# Dará ERROR porque es un numero variable de argumentos inciales la función de Python (o INTERPRETE), no\n",
    "# sabe cuántos tiene que considerar, él esta considerando todos (en este caso) hasta el final porque son variables, entonces si no\n",
    "# especificammos el valor de div, utilizando su eqtiqueta div, él NO puede entenderlo y por lo tanto da este ERROR-"
   ]
  },
  {
   "cell_type": "code",
   "execution_count": 19,
   "id": "bbfa65f5",
   "metadata": {},
   "outputs": [
    {
     "data": {
      "text/plain": [
       "1428.0"
      ]
     },
     "execution_count": 19,
     "metadata": {},
     "output_type": "execute_result"
    }
   ],
   "source": [
    "# Vamos a copiar el código de arriba para ver el error, y trabajaremos de la sgte manera:\n",
    "def multiplica_divide(*args, div):\n",
    "    resultado = 1\n",
    "    for i in args:\n",
    "        resultado = resultado * i\n",
    "    resultado = resultado / div\n",
    "    return resultado\n",
    "\n",
    "multiplica_divide(10,34,21,div = 5)  # De esta manera dará resultado, porque div esta especificado"
   ]
  },
  {
   "cell_type": "code",
   "execution_count": 21,
   "id": "a4e9f261",
   "metadata": {},
   "outputs": [
    {
     "data": {
      "text/plain": [
       "1428.0"
      ]
     },
     "execution_count": 21,
     "metadata": {},
     "output_type": "execute_result"
    }
   ],
   "source": [
    "# Vamos a poner el div (delante) y detrás (los argumentos). En este caso, div toma el valor de 5. Lo que NO podemos hacer es poner\n",
    "# div en ningun otro sitio porque entonces el INTERPRETE no se entera.\n",
    "def multiplica_divide(div, *args):\n",
    "    resultado = 1\n",
    "    for i in args:\n",
    "        resultado = resultado * i\n",
    "    resultado = resultado / div\n",
    "    return resultado\n",
    "\n",
    "multiplica_divide(5,10,34,21)"
   ]
  },
  {
   "cell_type": "code",
   "execution_count": 22,
   "id": "8901309e",
   "metadata": {},
   "outputs": [
    {
     "ename": "TypeError",
     "evalue": "multiplica_divide() got multiple values for argument 'div'",
     "output_type": "error",
     "traceback": [
      "\u001b[1;31m---------------------------------------------------------------------------\u001b[0m",
      "\u001b[1;31mTypeError\u001b[0m                                 Traceback (most recent call last)",
      "Cell \u001b[1;32mIn[22], line 9\u001b[0m\n\u001b[0;32m      6\u001b[0m     resultado \u001b[38;5;241m=\u001b[39m resultado \u001b[38;5;241m/\u001b[39m div\n\u001b[0;32m      7\u001b[0m     \u001b[38;5;28;01mreturn\u001b[39;00m resultado\n\u001b[1;32m----> 9\u001b[0m \u001b[43mmultiplica_divide\u001b[49m\u001b[43m(\u001b[49m\u001b[38;5;241;43m10\u001b[39;49m\u001b[43m,\u001b[49m\u001b[38;5;241;43m34\u001b[39;49m\u001b[43m,\u001b[49m\u001b[38;5;241;43m21\u001b[39;49m\u001b[43m,\u001b[49m\u001b[43m \u001b[49m\u001b[43mdiv\u001b[49m\u001b[43m \u001b[49m\u001b[38;5;241;43m=\u001b[39;49m\u001b[43m \u001b[49m\u001b[38;5;241;43m5\u001b[39;49m\u001b[43m)\u001b[49m    \u001b[38;5;66;03m# Dará ERROR \u001b[39;00m\n",
      "\u001b[1;31mTypeError\u001b[0m: multiplica_divide() got multiple values for argument 'div'"
     ]
    }
   ],
   "source": [
    "# ERRORES con argumentos variable\n",
    "def multiplica_divide(div, *args):\n",
    "    resultado = 1\n",
    "    for i in args:\n",
    "        resultado = resultado * i\n",
    "    resultado = resultado / div\n",
    "    return resultado\n",
    "\n",
    "multiplica_divide(10,34,21, div = 5)    \n",
    "# Dará ERROR porque entiende que tendrá multiples valores para el argumento 'div', piensa que son todos y se hace un lío. Por lo tanto, \n",
    "# si vas utilizar argumentos variables con fijos UTILIZAR SIEMPRE esta nomenclatrura (*args, div). PRIMERO los argumentos VARAIBLES y \n",
    "# luego los argumentos FIJOS. Recuerda cuando llames a la variable tendrás que ETIQUETARLOS -> multiplica_divide(10,34,21, div = 5) \n",
    "\n"
   ]
  }
 ],
 "metadata": {
  "kernelspec": {
   "display_name": "Python 3",
   "language": "python",
   "name": "python3"
  },
  "language_info": {
   "codemirror_mode": {
    "name": "ipython",
    "version": 3
   },
   "file_extension": ".py",
   "mimetype": "text/x-python",
   "name": "python",
   "nbconvert_exporter": "python",
   "pygments_lexer": "ipython3",
   "version": "3.13.0"
  }
 },
 "nbformat": 4,
 "nbformat_minor": 5
}
