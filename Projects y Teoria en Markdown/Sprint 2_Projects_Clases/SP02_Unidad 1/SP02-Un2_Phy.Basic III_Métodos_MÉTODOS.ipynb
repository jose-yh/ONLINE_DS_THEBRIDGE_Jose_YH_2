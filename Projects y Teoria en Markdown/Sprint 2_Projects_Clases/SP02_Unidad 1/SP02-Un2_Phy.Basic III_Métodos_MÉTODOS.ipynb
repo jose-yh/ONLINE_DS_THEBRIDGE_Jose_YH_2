{
 "cells": [
  {
   "cell_type": "code",
   "execution_count": 1,
   "id": "2ebf74b0",
   "metadata": {},
   "outputs": [],
   "source": [
    "# SP02-Unid2_Python Basic III_Métodos: MÉTODOS\n",
    "## Son funciones que podemos definir dentro de las clases. Estas funciones cambiarán el estado de algún atributo o realizarán calculos \n",
    "## que nos sirvan de output. \n",
    "## El constructor en un  tipo de método. La diferencia con el resto de métodos radica en su nombre, '__init__'. \n",
    "## La sintaxis para definir los métodos es como si fuese una función. Y luego para llamar al método se utiliza 'objeto.metodo(argumentos_metodo)"
   ]
  },
  {
   "cell_type": "code",
   "execution_count": 4,
   "id": "b46db4fb",
   "metadata": {},
   "outputs": [],
   "source": [
    "class Coche:\n",
    "    ruedas = 4\n",
    "\n",
    "    def __init__(self, marcha_coche, num_puertas = 4):\n",
    "        self.marca = marcha_coche\n",
    "        self.puertas = num_puertas\n",
    "\n",
    "# Definamos nuestro primer método, al cual llamaremos características:\n",
    "    def caracteristicas(self):\n",
    "        return \"Marca: \" + self.marca + \", Puertas:\" + str(self.puertas)  # Se debe utiklizar 'self' dentro del atributo"
   ]
  },
  {
   "cell_type": "code",
   "execution_count": 5,
   "id": "8a483da7",
   "metadata": {},
   "outputs": [
    {
     "data": {
      "text/plain": [
       "'Marca: Ford, Puertas:4'"
      ]
     },
     "execution_count": 5,
     "metadata": {},
     "output_type": "execute_result"
    }
   ],
   "source": [
    "ford_ka = Coche(\"Ford\")\n",
    "ford_ka.caracteristicas()"
   ]
  },
  {
   "cell_type": "code",
   "execution_count": 6,
   "id": "2ae8f653",
   "metadata": {},
   "outputs": [],
   "source": [
    "class Coche:\n",
    "    ruedas = 4\n",
    "\n",
    "    def __init__(self, marcha_coche, precio_coche, num_puertas = 4):\n",
    "        self.marca = marcha_coche\n",
    "        self.puertas = num_puertas\n",
    "        self.precio = precio_coche    # Este nuevo argumento 'precio_coche' va a ir al atributo precio 'self.precio'\n",
    "\n",
    "# Definamos nuestro primer método, al cual llamaremos características:\n",
    "    def caracteristicas(self):\n",
    "        return \"Marca: \" + self.marca + \", Puertas:\" + str(self.puertas)\n",
    "    \n",
    "    def precio_actual(self, agnos):\n",
    "        if agnos < 5:\n",
    "            return self.precio * 0.7\n",
    "        elif agnos > 5 and agnos < 10:\n",
    "            return self.precio * 0.5\n",
    "        else:\n",
    "            return self.precio * 0.3"
   ]
  },
  {
   "cell_type": "code",
   "execution_count": 7,
   "id": "90c5a009",
   "metadata": {},
   "outputs": [
    {
     "data": {
      "text/plain": [
       "17500.0"
      ]
     },
     "execution_count": 7,
     "metadata": {},
     "output_type": "execute_result"
    }
   ],
   "source": [
    "# Ahora veamos cómo funciona este precio actual:\n",
    "jeep_cherokee = Coche(\"Jeep\", 35000)\n",
    "jeep_cherokee.precio_actual(8)"
   ]
  },
  {
   "cell_type": "code",
   "execution_count": null,
   "id": "f8a27e46",
   "metadata": {},
   "outputs": [],
   "source": []
  }
 ],
 "metadata": {
  "kernelspec": {
   "display_name": "Python 3",
   "language": "python",
   "name": "python3"
  },
  "language_info": {
   "codemirror_mode": {
    "name": "ipython",
    "version": 3
   },
   "file_extension": ".py",
   "mimetype": "text/x-python",
   "name": "python",
   "nbconvert_exporter": "python",
   "pygments_lexer": "ipython3",
   "version": "3.13.0"
  }
 },
 "nbformat": 4,
 "nbformat_minor": 5
}
