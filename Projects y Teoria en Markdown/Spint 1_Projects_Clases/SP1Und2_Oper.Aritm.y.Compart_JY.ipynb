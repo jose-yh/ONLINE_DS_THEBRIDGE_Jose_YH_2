{
 "cells": [
  {
   "cell_type": "code",
   "execution_count": 1,
   "id": "0d1be59a-50fb-495d-903a-ec9bd4cd657f",
   "metadata": {},
   "outputs": [
    {
     "name": "stdout",
     "output_type": "stream",
     "text": [
      "17.34\n",
      "17.34 <class 'float'>\n",
      "61.7 <class 'float'>\n",
      "421978042.82945716 <class 'float'>\n",
      "0.4051863857374392 \n",
      " 5.0 \n",
      " 0.0\n"
     ]
    }
   ],
   "source": [
    "# Declarar y asignar una variable entera\n",
    "entero = 5\n",
    "# Declarar y asignar una variable real o float\n",
    "real = 12.34\n",
    "# Sumar las variable y mostrar el resultado\n",
    "suma_vars = entero + real\n",
    "print(suma_vars)\n",
    "# Mostrar de qué tipo es el resultado\n",
    "print(suma_vars, type(suma_vars))\n",
    "# Multiplicar ambas variables y mostrar el resultado\n",
    "multiplica_vars = entero * real\n",
    "print(multiplica_vars, type (multiplica_vars))\n",
    "# Elevar una a la otra\n",
    "potencia = entero ** real\n",
    "print(potencia, type(potencia))\n",
    "# Dividir una por otra y mostrar además el resto y el cociente\n",
    "division_vars = entero / real\n",
    "cociente = entero // real\n",
    "resto = entero % real\n",
    "print(division_vars, \"\\n\", resto, \"\\n\", cociente)"
   ]
  },
  {
   "cell_type": "code",
   "execution_count": 6,
   "id": "831440f1-743c-42a9-bf64-767aa0eece9c",
   "metadata": {},
   "outputs": [
    {
     "name": "stdout",
     "output_type": "stream",
     "text": [
      "Conmutativa\n",
      "6\n",
      "6\n",
      "\n",
      "Asociativa\n",
      "30\n",
      "30\n",
      "\n",
      "Distributiva\n",
      "16\n",
      "16\n",
      "\n",
      "El orden de las operaciones se mantiene. Siempre podemos usar paréntesis\n",
      "50\n",
      "1.7272727272727273\n"
     ]
    }
   ],
   "source": [
    "# Propiedades Conmutativa, asociativa, distributiva y el paréntesis\n",
    "\n",
    "print(\"Conmutativa\")\n",
    "print(2 * 3)\n",
    "print(3 * 2)\n",
    "\n",
    "print(\"\\nAsociativa\")\n",
    "print((3 * 2) * 5)\n",
    "print(3 * (2 * 5))\n",
    "\n",
    "print(\"\\nDistributiva\")\n",
    "print(2 * (3 + 5))\n",
    "print(2 * 3 + 2 * 5)\n",
    "\n",
    "print(\"\\nEl orden de las operaciones se mantiene. Siempre podemos usar paréntesis\")\n",
    "print(2 * (2 + 3) * 5)\n",
    "print((2 * 2 + 3 * 5) / (4 + 7))    \n"
   ]
  },
  {
   "cell_type": "code",
   "execution_count": 7,
   "id": "d11ab90f-9662-4686-bb76-5554abd657a8",
   "metadata": {},
   "outputs": [
    {
     "name": "stdout",
     "output_type": "stream",
     "text": [
      "5.0\n",
      "1.0\n",
      "123.45\n"
     ]
    }
   ],
   "source": [
    "# Importanto math\n",
    "import math\n",
    "print(math.sqrt(25)) # raiz cuadrada\n",
    "print(math.cos(0))  # Coseno\n",
    "print(math.fabs(-123.45)) # Valor absoluto"
   ]
  },
  {
   "cell_type": "code",
   "execution_count": 8,
   "id": "def962f0-ff8e-44e6-8cd4-f38de584a2a8",
   "metadata": {},
   "outputs": [
    {
     "ename": "ZeroDivisionError",
     "evalue": "division by zero",
     "output_type": "error",
     "traceback": [
      "\u001b[1;31m---------------------------------------------------------------------------\u001b[0m",
      "\u001b[1;31mZeroDivisionError\u001b[0m                         Traceback (most recent call last)",
      "Cell \u001b[1;32mIn[8], line 1\u001b[0m\n\u001b[1;32m----> 1\u001b[0m \u001b[38;5;241;43m4\u001b[39;49m\u001b[38;5;241;43m/\u001b[39;49m\u001b[38;5;241;43m0\u001b[39;49m \u001b[38;5;66;03m# dicvision entre CERO, btendrá error\u001b[39;00m\n",
      "\u001b[1;31mZeroDivisionError\u001b[0m: division by zero"
     ]
    }
   ],
   "source": [
    "4/0 # dicvision entre CERO, btendrá error"
   ]
  },
  {
   "cell_type": "code",
   "execution_count": null,
   "id": "0cc1b251-3a14-466e-9ad2-cdbd3b00cd9e",
   "metadata": {},
   "outputs": [],
   "source": [
    "# Errores clásicos\n",
    "variable_a/variable_b"
   ]
  },
  {
   "cell_type": "code",
   "execution_count": null,
   "id": "0b8d1e5c-d9f2-403d-8e78-ab6ee21f032d",
   "metadata": {},
   "outputs": [],
   "source": [
    "# Hay valores que se salen del dominio de algunas funciones matemáticas,\n",
    "# como es el caso de las raices de números negativos"
   ]
  },
  {
   "cell_type": "code",
   "execution_count": 9,
   "id": "a44859f5-9f0b-417e-8d10-29433bf275eb",
   "metadata": {},
   "outputs": [
    {
     "ename": "ValueError",
     "evalue": "math domain error",
     "output_type": "error",
     "traceback": [
      "\u001b[1;31m---------------------------------------------------------------------------\u001b[0m",
      "\u001b[1;31mValueError\u001b[0m                                Traceback (most recent call last)",
      "Cell \u001b[1;32mIn[9], line 1\u001b[0m\n\u001b[1;32m----> 1\u001b[0m \u001b[43mmath\u001b[49m\u001b[38;5;241;43m.\u001b[39;49m\u001b[43msqrt\u001b[49m\u001b[43m(\u001b[49m\u001b[38;5;241;43m-\u001b[39;49m\u001b[38;5;241;43m12\u001b[39;49m\u001b[43m)\u001b[49m\n",
      "\u001b[1;31mValueError\u001b[0m: math domain error"
     ]
    }
   ],
   "source": [
    "math.sqrt(-12) # Raiz cuadrada de un número negativo. Dará error"
   ]
  },
  {
   "cell_type": "code",
   "execution_count": 10,
   "id": "3732428f-6a47-4fd2-b89d-eca1527d1067",
   "metadata": {},
   "outputs": [
    {
     "name": "stdout",
     "output_type": "stream",
     "text": [
      "1\n",
      "False\n",
      "1\n"
     ]
    }
   ],
   "source": [
    "# Operaciones Comparativas\n",
    "\n",
    "#asignacion\n",
    "asign = 1\n",
    "print(asign)\n",
    "\n",
    "# Comparacion\n",
    "print(asign == 5)\n",
    "print(asign)\n"
   ]
  },
  {
   "cell_type": "code",
   "execution_count": 11,
   "id": "952e9307-95b5-4e71-8190-2efa52a1340c",
   "metadata": {},
   "outputs": [
    {
     "name": "stdout",
     "output_type": "stream",
     "text": [
      "False\n",
      "True\n",
      "True\n",
      "True\n",
      "False\n"
     ]
    }
   ],
   "source": [
    "print(\"AAA\" == \"BBB\")\n",
    "print(\"AAA\" == \"AAA\")\n",
    "print( 93> 12)\n",
    "print( 1 == 1.0)\n",
    "print( 93 <= 12)"
   ]
  },
  {
   "cell_type": "code",
   "execution_count": 13,
   "id": "5dadea74-b869-4f8b-b15e-e568f4d6d8ed",
   "metadata": {},
   "outputs": [
    {
     "name": "stdout",
     "output_type": "stream",
     "text": [
      "False\n",
      "False\n"
     ]
    }
   ],
   "source": [
    "# Errores en compartivas\n",
    "print(1 == \"1\")\n",
    "print(\"Hola\" == True)\n"
   ]
  },
  {
   "cell_type": "code",
   "execution_count": null,
   "id": "6eecd62f-02ce-400a-87fc-a8717a808b3d",
   "metadata": {},
   "outputs": [],
   "source": [
    "# Obtenemos un TypeError cuando la comparativa es de > o <"
   ]
  },
  {
   "cell_type": "code",
   "execution_count": 15,
   "id": "5dda128f-d25c-40af-8a04-9ff01aadc3d4",
   "metadata": {},
   "outputs": [
    {
     "ename": "TypeError",
     "evalue": "'>=' not supported between instances of 'str' and 'int'",
     "output_type": "error",
     "traceback": [
      "\u001b[1;31m---------------------------------------------------------------------------\u001b[0m",
      "\u001b[1;31mTypeError\u001b[0m                                 Traceback (most recent call last)",
      "Cell \u001b[1;32mIn[15], line 1\u001b[0m\n\u001b[1;32m----> 1\u001b[0m \u001b[38;5;28mprint\u001b[39m(\u001b[38;5;124;43m\"\u001b[39;49m\u001b[38;5;124;43m17\u001b[39;49m\u001b[38;5;124;43m\"\u001b[39;49m\u001b[43m \u001b[49m\u001b[38;5;241;43m>\u001b[39;49m\u001b[38;5;241;43m=\u001b[39;49m\u001b[43m \u001b[49m\u001b[38;5;241;43m23\u001b[39;49m)   \u001b[38;5;66;03m# Nos dará un TypeError debido a que >= no esta soportado entre instancias str e int\u001b[39;00m\n",
      "\u001b[1;31mTypeError\u001b[0m: '>=' not supported between instances of 'str' and 'int'"
     ]
    }
   ],
   "source": [
    "print(\"17\" >= 23)   # Nos dará un TypeError debido a que >= no esta soportado entre instancias str e int"
   ]
  },
  {
   "cell_type": "code",
   "execution_count": null,
   "id": "e479167f-0910-44c7-ac16-e57d6793b9b2",
   "metadata": {},
   "outputs": [],
   "source": []
  }
 ],
 "metadata": {
  "kernelspec": {
   "display_name": "Python 3 (ipykernel)",
   "language": "python",
   "name": "python3"
  },
  "language_info": {
   "codemirror_mode": {
    "name": "ipython",
    "version": 3
   },
   "file_extension": ".py",
   "mimetype": "text/x-python",
   "name": "python",
   "nbconvert_exporter": "python",
   "pygments_lexer": "ipython3",
   "version": "3.13.0"
  }
 },
 "nbformat": 4,
 "nbformat_minor": 5
}
