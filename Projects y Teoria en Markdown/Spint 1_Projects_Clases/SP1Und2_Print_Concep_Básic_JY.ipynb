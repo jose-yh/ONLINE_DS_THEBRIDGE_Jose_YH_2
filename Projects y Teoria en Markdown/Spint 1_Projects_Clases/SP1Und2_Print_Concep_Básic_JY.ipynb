{
 "cells": [
  {
   "cell_type": "code",
   "execution_count": 1,
   "id": "68659ee5-1dce-440f-868e-d638c0755ba1",
   "metadata": {},
   "outputs": [],
   "source": [
    "ingresos = 1000\n",
    "gastos = 100\n",
    "beneficios = ingresos - gastos"
   ]
  },
  {
   "cell_type": "code",
   "execution_count": 3,
   "id": "99f09e0d-b5d1-4fd9-b20b-753104674e9e",
   "metadata": {},
   "outputs": [
    {
     "name": "stdout",
     "output_type": "stream",
     "text": [
      "1000\n",
      "100\n",
      "Los beneficios han sido de:\n",
      "900\n"
     ]
    }
   ],
   "source": [
    "print(ingresos)\n",
    "print(gastos)\n",
    "print(\"Los beneficios han sido de:\")\n",
    "print(beneficios)"
   ]
  },
  {
   "cell_type": "code",
   "execution_count": 4,
   "id": "51fa706e-03d1-410b-a34d-3a8547401040",
   "metadata": {},
   "outputs": [
    {
     "name": "stdout",
     "output_type": "stream",
     "text": [
      "Los beneficios de junio han sido 900 millones\n"
     ]
    }
   ],
   "source": [
    "mes = \"junio\"\n",
    "print(\"Los beneficios de %s han sido %s millones\" %(mes,beneficios))"
   ]
  },
  {
   "cell_type": "code",
   "execution_count": 5,
   "id": "51f63a63-b677-4dfb-8ad2-a250494485f2",
   "metadata": {},
   "outputs": [
    {
     "name": "stdout",
     "output_type": "stream",
     "text": [
      "Los beneficios de 900 han sido junio millones\n"
     ]
    }
   ],
   "source": [
    "print(\"Los beneficios de %s han sido %s millones\" %(beneficios, mes))"
   ]
  },
  {
   "cell_type": "code",
   "execution_count": 6,
   "id": "8e96b34c-b400-4cc8-a969-f9eeb00d526f",
   "metadata": {},
   "outputs": [
    {
     "name": "stdout",
     "output_type": "stream",
     "text": [
      "Los beneficios de agosto han sido 900 millones\n"
     ]
    }
   ],
   "source": [
    "mes = \"agosto\"\n",
    "print(\"Los beneficios de\", mes, \"han sido\", beneficios, \"millones\")"
   ]
  },
  {
   "cell_type": "code",
   "execution_count": 8,
   "id": "64b356e3-0be6-47ec-94e8-673156762c8a",
   "metadata": {},
   "outputs": [
    {
     "name": "stdout",
     "output_type": "stream",
     "text": [
      "Esto sí lo ejecutará\n"
     ]
    }
   ],
   "source": [
    "# Comentario de linea\n",
    "# print(\"Esto lo ignora\")\n",
    "print(\"Esto sí lo ejecutará\")"
   ]
  },
  {
   "cell_type": "code",
   "execution_count": 10,
   "id": "a9ad4bf7-3be4-4b83-997b-c1be8480a4a5",
   "metadata": {},
   "outputs": [
    {
     "name": "stdout",
     "output_type": "stream",
     "text": [
      "Fin del programa\n"
     ]
    }
   ],
   "source": [
    "print(\"Fin del programa\") # Esta línea indica que hemos terminado"
   ]
  },
  {
   "cell_type": "code",
   "execution_count": 14,
   "id": "9912d41f-b8ec-41f2-aae1-f6f031510c9a",
   "metadata": {},
   "outputs": [
    {
     "name": "stdout",
     "output_type": "stream",
     "text": [
      "Este print si se va a ejecutar\n"
     ]
    }
   ],
   "source": [
    "'''\n",
    "Comentario multilinea\n",
    "Puedo usar varias líneas sin tener que repetir el #\n",
    "'''\n",
    "\n",
    "\"\"\"\n",
    "Los comentarios multilinea pueden ir\n",
    "entre comillas dobles, y tampoco se ejecutan o interpretan\n",
    "este \n",
    "print(\"No se va a ejecutar\")\n",
    "\"\"\"\n",
    "\n",
    "print(\"Este print si se va a ejecutar\")"
   ]
  },
  {
   "cell_type": "markdown",
   "id": "22106a5d-fae7-4eca-b9bf-656638113636",
   "metadata": {},
   "source": [
    "ventas_jun_jul = ventas_junio + ventas_julio\n",
    "\n",
    "ventas_junio = 100\n",
    "ventas_julio = 150"
   ]
  },
  {
   "cell_type": "code",
   "execution_count": 5,
   "id": "2df50d12-207f-4788-88f0-8fafbda3e8c9",
   "metadata": {},
   "outputs": [],
   "source": [
    "ventas_junio = 100\n",
    "ventas_julio = 150\n",
    "\n",
    "ventas_jun_jul = ventas_junio + ventas_julio"
   ]
  },
  {
   "cell_type": "code",
   "execution_count": 4,
   "id": "cefb6af1-8ec3-472d-8d38-702f566e7c79",
   "metadata": {},
   "outputs": [
    {
     "name": "stdout",
     "output_type": "stream",
     "text": [
      "Las ventas de junio a julio son 250\n"
     ]
    }
   ],
   "source": [
    "print(\"Las ventas de junio a julio son\", ventas_jun_jul)"
   ]
  },
  {
   "cell_type": "code",
   "execution_count": 8,
   "id": "93e054e7-65ac-4b52-bf16-bf86042f27e9",
   "metadata": {},
   "outputs": [
    {
     "name": "stdout",
     "output_type": "stream",
     "text": [
      "1.8 75\n"
     ]
    }
   ],
   "source": [
    "altura = 1.80; peso = 75\n",
    "print(altura, peso)"
   ]
  },
  {
   "cell_type": "code",
   "execution_count": 9,
   "id": "e333d86b-1879-48ab-ad3a-2c59cea57905",
   "metadata": {},
   "outputs": [],
   "source": [
    "x,y,z =12,23,45"
   ]
  },
  {
   "cell_type": "code",
   "execution_count": 10,
   "id": "593e6d71-d0d7-48f8-8d62-a0c8f8c7849d",
   "metadata": {},
   "outputs": [],
   "source": [
    "x = 12\n",
    "y = 23\n",
    "z = 45"
   ]
  },
  {
   "cell_type": "code",
   "execution_count": 11,
   "id": "0900b817-ed6b-469b-9fcf-9f89262c1f2e",
   "metadata": {},
   "outputs": [
    {
     "ename": "NameError",
     "evalue": "name 'altura' is not defined",
     "output_type": "error",
     "traceback": [
      "\u001b[1;31m---------------------------------------------------------------------------\u001b[0m",
      "\u001b[1;31mNameError\u001b[0m                                 Traceback (most recent call last)",
      "Cell \u001b[1;32mIn[11], line 3\u001b[0m\n\u001b[0;32m      1\u001b[0m altura \u001b[38;5;241m=\u001b[39m \u001b[38;5;241m1.85\u001b[39m\n\u001b[0;32m      2\u001b[0m \u001b[38;5;28;01mdel\u001b[39;00m altura\n\u001b[1;32m----> 3\u001b[0m \u001b[38;5;28mprint\u001b[39m(\u001b[43maltura\u001b[49m)\n",
      "\u001b[1;31mNameError\u001b[0m: name 'altura' is not defined"
     ]
    }
   ],
   "source": [
    "altura = 1.85\n",
    "del altura\n",
    "print(altura)"
   ]
  },
  {
   "cell_type": "code",
   "execution_count": 12,
   "id": "fb7bfd59-7c10-4777-adbe-bf3f667f4d9e",
   "metadata": {},
   "outputs": [
    {
     "name": "stdout",
     "output_type": "stream",
     "text": [
      "1.85\n"
     ]
    }
   ],
   "source": [
    "altura = 1.85\n",
    "print(altura)\n",
    "del altura"
   ]
  },
  {
   "cell_type": "code",
   "execution_count": null,
   "id": "36ef9a49-fc83-4df2-966c-13e6bf6ee23d",
   "metadata": {},
   "outputs": [],
   "source": []
  }
 ],
 "metadata": {
  "kernelspec": {
   "display_name": "Python 3 (ipykernel)",
   "language": "python",
   "name": "python3"
  },
  "language_info": {
   "codemirror_mode": {
    "name": "ipython",
    "version": 3
   },
   "file_extension": ".py",
   "mimetype": "text/x-python",
   "name": "python",
   "nbconvert_exporter": "python",
   "pygments_lexer": "ipython3",
   "version": "3.13.0"
  }
 },
 "nbformat": 4,
 "nbformat_minor": 5
}
