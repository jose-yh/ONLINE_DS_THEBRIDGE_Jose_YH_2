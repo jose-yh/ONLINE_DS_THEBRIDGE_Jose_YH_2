{
 "cells": [
  {
   "cell_type": "code",
   "execution_count": 2,
   "id": "f4afeef7-98eb-421d-b888-a478caab6f20",
   "metadata": {},
   "outputs": [
    {
     "name": "stdout",
     "output_type": "stream",
     "text": [
      "33\n"
     ]
    }
   ],
   "source": [
    "# Len se usa para calcular la longitud de una variable. Ya veras que la usaremos mucho en colecciones,\n",
    "# las cuales son agrupaciones de variables de diferentes tipos\n",
    "print(len(\"Esto es una cadena de longitud...\"))"
   ]
  },
  {
   "cell_type": "code",
   "execution_count": 4,
   "id": "29bc17b6-ef59-4321-a3b4-ff0e71b94de6",
   "metadata": {},
   "outputs": [
    {
     "name": "stdout",
     "output_type": "stream",
     "text": [
      "25\n"
     ]
    }
   ],
   "source": [
    "# Función max. Tiene tantos argumentos como cantidad de números entre los cuales\n",
    "# queramos sacar su valor máximo. Nos da el valor máximo de un conjunto de valores, \n",
    "# también una colección de valores\n",
    "print(max((1,12,13,25,6)))  # Nos dará como resultado el número máximo, el cual es 25\n"
   ]
  },
  {
   "cell_type": "code",
   "execution_count": 9,
   "id": "623d331a-0f49-46d0-83b6-9995c4410ba3",
   "metadata": {},
   "outputs": [
    {
     "name": "stdout",
     "output_type": "stream",
     "text": [
      "La longitud de esta cadena es  30\n"
     ]
    }
   ],
   "source": [
    "cadena = \"La longitud de esta cadena es \"\n",
    "print(cadena,len(cadena))"
   ]
  },
  {
   "cell_type": "code",
   "execution_count": 10,
   "id": "3ce858ef-0f48-42ad-a01f-b3db2a50989a",
   "metadata": {},
   "outputs": [
    {
     "name": "stdout",
     "output_type": "stream",
     "text": [
      "La longitud de esta cadena es *test**30*test**y no es un float__"
     ]
    }
   ],
   "source": [
    "cadena = \"La longitud de esta cadena es \"\n",
    "print(cadena,len(cadena), \"y no es un float\", sep = \"*test**\", end = \"__\")"
   ]
  },
  {
   "cell_type": "code",
   "execution_count": null,
   "id": "4590b1a0-5bac-4cff-9c40-882f630aac20",
   "metadata": {},
   "outputs": [],
   "source": []
  }
 ],
 "metadata": {
  "kernelspec": {
   "display_name": "Python 3 (ipykernel)",
   "language": "python",
   "name": "python3"
  },
  "language_info": {
   "codemirror_mode": {
    "name": "ipython",
    "version": 3
   },
   "file_extension": ".py",
   "mimetype": "text/x-python",
   "name": "python",
   "nbconvert_exporter": "python",
   "pygments_lexer": "ipython3",
   "version": "3.13.0"
  }
 },
 "nbformat": 4,
 "nbformat_minor": 5
}
