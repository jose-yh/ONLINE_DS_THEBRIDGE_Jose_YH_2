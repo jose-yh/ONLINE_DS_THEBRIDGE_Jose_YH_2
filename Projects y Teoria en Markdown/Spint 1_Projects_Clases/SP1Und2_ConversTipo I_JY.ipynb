{
 "cells": [
  {
   "cell_type": "code",
   "execution_count": 3,
   "id": "c33fe9f7-d365-4970-a169-650feec7bbed",
   "metadata": {},
   "outputs": [
    {
     "name": "stdout",
     "output_type": "stream",
     "text": [
      "<class 'float'>\n",
      "24\n",
      "<class 'int'>\n"
     ]
    }
   ],
   "source": [
    "num_real = 24.69 # Es un numero float\n",
    "print(type(num_real))\n",
    "\n",
    "num_entero = int(num_real) # Se requiere convertir el float a un int (numero entero)\n",
    "print(num_entero)\n",
    "print(type(num_entero))"
   ]
  },
  {
   "cell_type": "code",
   "execution_count": 6,
   "id": "78936897-c6f5-4637-a08d-48f0d78b44f1",
   "metadata": {},
   "outputs": [
    {
     "name": "stdout",
     "output_type": "stream",
     "text": [
      "24.69\n"
     ]
    }
   ],
   "source": [
    "# Esta función (round()) tiene dos argumentos: el número, el cual queremos redondear y la cantidad de decimales que queremos conservar\n",
    "# Veremos funciones más adelante.\n",
    "num_real = 24.686\n",
    "num_redondeado = round(num_real,2)\n",
    "print(num_redondeado)"
   ]
  },
  {
   "cell_type": "code",
   "execution_count": 7,
   "id": "4d4d155f-d81b-4aca-91c4-a099169f8214",
   "metadata": {},
   "outputs": [
    {
     "name": "stdout",
     "output_type": "stream",
     "text": [
      "25.0 <class 'float'>\n"
     ]
    }
   ],
   "source": [
    "num_redondeado = 24.69\n",
    "num_convertido = round(num_redondeado,0)\n",
    "print(num_convertido, type(num_convertido))"
   ]
  },
  {
   "cell_type": "code",
   "execution_count": 11,
   "id": "d69bd660-7330-4a58-967f-af7a06dde3ef",
   "metadata": {},
   "outputs": [
    {
     "name": "stdout",
     "output_type": "stream",
     "text": [
      "25 su tipo  <class 'int'>\n"
     ]
    }
   ],
   "source": [
    "print(int(num_convertido), \"su tipo \", type(int(num_convertido)))"
   ]
  },
  {
   "cell_type": "code",
   "execution_count": 13,
   "id": "90e50789-2948-47ef-89ae-4aad62a841e2",
   "metadata": {},
   "outputs": [
    {
     "name": "stdout",
     "output_type": "stream",
     "text": [
      "24.69 su tipo  <class 'str'>\n",
      "12 su tipo  <class 'str'>\n"
     ]
    }
   ],
   "source": [
    "num_real = 24.69\n",
    "num_entero = 12\n",
    "\n",
    "# Convertir un float o int a string\n",
    "real_str = str(num_real)\n",
    "entero_str = str(num_entero)\n",
    "\n",
    "print(real_str,  \"su tipo \", type(real_str))\n",
    "print(entero_str, \"su tipo \", type(entero_str))\n"
   ]
  },
  {
   "cell_type": "code",
   "execution_count": 15,
   "id": "aac592a9-de02-4d8c-949c-e7c7ca393895",
   "metadata": {},
   "outputs": [
    {
     "name": "stdout",
     "output_type": "stream",
     "text": [
      "36.69\n",
      "24.6912\n"
     ]
    }
   ],
   "source": [
    "# Ver la suma de un númerp real y un número entero, y la suma de un real sting con un entero sting:\n",
    "print(num_real + num_entero) # Esta operación sumara 24.69 + 12 = 36.69\n",
    "print(real_str + entero_str) # Esta operación al ser un String, entonces concanetará los número (debido al signo +), sería 24.69 y 12 = 24.6912"
   ]
  },
  {
   "cell_type": "code",
   "execution_count": 19,
   "id": "1a92ec97-1840-43b2-8c2e-9eb2e52f307d",
   "metadata": {},
   "outputs": [
    {
     "name": "stdout",
     "output_type": "stream",
     "text": [
      "98 <class 'str'>\n",
      "98 <class 'int'>\n"
     ]
    },
    {
     "ename": "ValueError",
     "evalue": "could not convert string to float: '98,33'",
     "output_type": "error",
     "traceback": [
      "\u001b[1;31m---------------------------------------------------------------------------\u001b[0m",
      "\u001b[1;31mValueError\u001b[0m                                Traceback (most recent call last)",
      "Cell \u001b[1;32mIn[19], line 8\u001b[0m\n\u001b[0;32m      5\u001b[0m \u001b[38;5;28mprint\u001b[39m(mi_entero, \u001b[38;5;28mtype\u001b[39m(mi_entero))\n\u001b[0;32m      7\u001b[0m mi_cadena_real \u001b[38;5;241m=\u001b[39m \u001b[38;5;124m\"\u001b[39m\u001b[38;5;124m98,33\u001b[39m\u001b[38;5;124m\"\u001b[39m\n\u001b[1;32m----> 8\u001b[0m mi_real \u001b[38;5;241m=\u001b[39m \u001b[38;5;28;43mfloat\u001b[39;49m\u001b[43m(\u001b[49m\u001b[43mmi_cadena_real\u001b[49m\u001b[43m)\u001b[49m\n",
      "\u001b[1;31mValueError\u001b[0m: could not convert string to float: '98,33'"
     ]
    }
   ],
   "source": [
    "# Convertir de String a un número tampoco suele haber problema. Hay que tener cuiado con los puntos decimales. *Puntos, NO comas*\n",
    "mi_cadena =\"98\" # Esto es un string\n",
    "mi_entero = int(mi_cadena) # Esto convierte a un int\n",
    "print(mi_cadena, type(mi_cadena))\n",
    "print(mi_entero, type(mi_entero))\n",
    "\n",
    "mi_cadena_real = \"98,33\" # Si se colocara 98,33 (con COMA) dará un error, NO puede convertir de una cadena a un float. Se DEDE utilizar un PUNTO \n",
    "mi_real = float(mi_cadena_real)"
   ]
  },
  {
   "cell_type": "code",
   "execution_count": 30,
   "id": "aa9ba049-8132-4807-824f-405b3f14297c",
   "metadata": {},
   "outputs": [
    {
     "name": "stdout",
     "output_type": "stream",
     "text": [
      "98.64 <class 'float'>\n"
     ]
    }
   ],
   "source": [
    "# Cambiando la COMA por el PUNTO\n",
    "mi_cadena_real = \"98.64\" # Si se colocara 98.33 (con PUNTO) NO dará un error. \n",
    "mi_real = float(mi_cadena_real)\n",
    "print(mi_real, type(mi_real))"
   ]
  },
  {
   "cell_type": "code",
   "execution_count": 25,
   "id": "e07b2516-8c20-475f-8c3a-ee636a68145b",
   "metadata": {},
   "outputs": [
    {
     "name": "stdout",
     "output_type": "stream",
     "text": [
      "True <class 'bool'>\n"
     ]
    }
   ],
   "source": [
    "# Pasar de un número a boleano y viciversa. Tener en cuenta que los 0s (ceros) son False, y el resto de números equivalen a un True\n",
    "booleano = bool(123)\n",
    "print(booleano, type(booleano)) # El resultado dará True <class 'bool'> porque el número es DISTINTO de CERO"
   ]
  },
  {
   "cell_type": "code",
   "execution_count": 27,
   "id": "c5a51ccc-08f7-4fb1-ae01-38978615bfa7",
   "metadata": {},
   "outputs": [
    {
     "name": "stdout",
     "output_type": "stream",
     "text": [
      "False <class 'bool'>\n"
     ]
    }
   ],
   "source": [
    "# Probemos con el CERO\n",
    "booleano = bool(0)\n",
    "print(booleano, type(booleano)) # El resultado dará False <class 'bool'> porque el número NO es DISTINTO de CERO"
   ]
  },
  {
   "cell_type": "code",
   "execution_count": 29,
   "id": "4a25194b-3b54-420c-bf6a-57d981fd1acd",
   "metadata": {},
   "outputs": [
    {
     "name": "stdout",
     "output_type": "stream",
     "text": [
      "False <class 'bool'>\n",
      "True <class 'bool'>\n"
     ]
    }
   ],
   "source": [
    "booleano = bool(\"\")\n",
    "booleano_2 = bool(\"Esto es otro tipo de booleano al hacer la conversión\")\n",
    "print(booleano, type(booleano))\n",
    "print(booleano_2, type(booleano))"
   ]
  },
  {
   "cell_type": "code",
   "execution_count": null,
   "id": "8d6a02a7-7a30-41e6-b7cf-41383bef5c31",
   "metadata": {},
   "outputs": [],
   "source": [
    "# Convertir de booleano a string\n"
   ]
  },
  {
   "cell_type": "code",
   "execution_count": null,
   "id": "c839bbcd-41d0-424a-8839-3bf0ac3465cf",
   "metadata": {},
   "outputs": [],
   "source": []
  },
  {
   "cell_type": "code",
   "execution_count": null,
   "id": "098020d9-5f59-4969-8d6a-5469947fc8dd",
   "metadata": {},
   "outputs": [],
   "source": []
  }
 ],
 "metadata": {
  "kernelspec": {
   "display_name": "Python 3 (ipykernel)",
   "language": "python",
   "name": "python3"
  },
  "language_info": {
   "codemirror_mode": {
    "name": "ipython",
    "version": 3
   },
   "file_extension": ".py",
   "mimetype": "text/x-python",
   "name": "python",
   "nbconvert_exporter": "python",
   "pygments_lexer": "ipython3",
   "version": "3.13.0"
  }
 },
 "nbformat": 4,
 "nbformat_minor": 5
}
