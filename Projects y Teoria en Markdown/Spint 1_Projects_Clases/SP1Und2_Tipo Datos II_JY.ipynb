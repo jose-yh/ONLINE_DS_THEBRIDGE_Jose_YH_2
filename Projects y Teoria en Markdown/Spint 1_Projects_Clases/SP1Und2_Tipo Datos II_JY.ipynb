{
 "cells": [
  {
   "cell_type": "code",
   "execution_count": 2,
   "id": "5afc7de0-c241-4e73-a11e-14e276f3d91a",
   "metadata": {},
   "outputs": [
    {
     "name": "stdout",
     "output_type": "stream",
     "text": [
      "Esto es una variable de tipo string\n",
      "Esto es una variable de tipo string en comillas simples\n"
     ]
    }
   ],
   "source": [
    "# *Strings*\n",
    "# Con comillas dobles\n",
    "cadena = \"Esto es una variable de tipo string\"\n",
    "\n",
    "# Con comillas simples\n",
    "cadena_2 = 'Esto es una variable de tipo string en comillas simples'\n",
    "print(cadena)\n",
    "print(cadena_2)"
   ]
  },
  {
   "cell_type": "code",
   "execution_count": 3,
   "id": "53449a13-cc22-4f9d-871d-0d5195cf3d10",
   "metadata": {},
   "outputs": [
    {
     "name": "stdout",
     "output_type": "stream",
     "text": [
      "String con 'simples'\n",
      "String con \"dobles\"\n",
      "String con \"simples o dobles\"\n"
     ]
    }
   ],
   "source": [
    "print(\"String con 'simples'\")\n",
    "print('String con \"dobles\"')\n",
    "print(\"String con \\\"simples o dobles\\\"\")"
   ]
  },
  {
   "cell_type": "code",
   "execution_count": 5,
   "id": "c5ca2172-3bfb-4ab9-90c5-c476f9429479",
   "metadata": {},
   "outputs": [
    {
     "name": "stdout",
     "output_type": "stream",
     "text": [
      "Primera linea\n",
      "Segunda Linea\n",
      "\tTercera Linea, tabulada\n"
     ]
    }
   ],
   "source": [
    "print(\"Primera linea\\nSegunda Linea\\n\\tTercera Linea, tabulada\")"
   ]
  },
  {
   "cell_type": "code",
   "execution_count": 9,
   "id": "12808ed0-0e8e-409e-a6de-d3e4c74aa540",
   "metadata": {},
   "outputs": [
    {
     "name": "stdout",
     "output_type": "stream",
     "text": [
      "Primera Linea\n",
      "Segunda Linea\n",
      "\tTercera Linea, tabulada\n"
     ]
    }
   ],
   "source": [
    "mi_string = \"Primera Linea\\nSegunda Linea\\n\\tTercera Linea, tabulada\"\n",
    "print(mi_string)"
   ]
  },
  {
   "cell_type": "code",
   "execution_count": 11,
   "id": "dd9c8de7-8c8e-46ec-9eea-677311c6a55d",
   "metadata": {},
   "outputs": [
    {
     "name": "stdout",
     "output_type": "stream",
     "text": [
      "José Yaya\n"
     ]
    }
   ],
   "source": [
    "nombre =\"José\"\n",
    "apellido = \"Yaya\"\n",
    "espacio = \" \"\n",
    "\n",
    "nombre_apellido = nombre + espacio + apellido\n",
    "print(nombre_apellido)"
   ]
  },
  {
   "cell_type": "code",
   "execution_count": 12,
   "id": "db0cdfd9-7238-4484-90aa-dceef4aa44c9",
   "metadata": {},
   "outputs": [
    {
     "ename": "TypeError",
     "evalue": "can only concatenate str (not \"int\") to str",
     "output_type": "error",
     "traceback": [
      "\u001b[1;31m---------------------------------------------------------------------------\u001b[0m",
      "\u001b[1;31mTypeError\u001b[0m                                 Traceback (most recent call last)",
      "Cell \u001b[1;32mIn[12], line 3\u001b[0m\n\u001b[0;32m      1\u001b[0m esto_es_una_prueba \u001b[38;5;241m=\u001b[39m \u001b[38;5;124m\"\u001b[39m\u001b[38;5;124mPues eso, que estamos jugando\u001b[39m\u001b[38;5;124m\"\u001b[39m\n\u001b[0;32m      2\u001b[0m un_entero \u001b[38;5;241m=\u001b[39m \u001b[38;5;241m100\u001b[39m\n\u001b[1;32m----> 3\u001b[0m \u001b[38;5;28mprint\u001b[39m(\u001b[43mesto_es_una_prueba\u001b[49m\u001b[43m \u001b[49m\u001b[38;5;241;43m+\u001b[39;49m\u001b[43m \u001b[49m\u001b[43mun_entero\u001b[49m)\n",
      "\u001b[1;31mTypeError\u001b[0m: can only concatenate str (not \"int\") to str"
     ]
    }
   ],
   "source": [
    "esto_es_una_prueba = \"Pues eso, que estamos jugando\"\n",
    "un_entero = 100\n",
    "print(esto_es_una_prueba + un_entero)"
   ]
  },
  {
   "cell_type": "code",
   "execution_count": 16,
   "id": "f4d3b15e-cefe-44cd-b40b-b0b79f243d32",
   "metadata": {},
   "outputs": [
    {
     "data": {
      "text/plain": [
       "True"
      ]
     },
     "execution_count": 16,
     "metadata": {},
     "output_type": "execute_result"
    }
   ],
   "source": [
    "#Booleano:\n",
    "True"
   ]
  },
  {
   "cell_type": "code",
   "execution_count": 15,
   "id": "517b6fe0-aaeb-470b-9d17-bf07da7d59d3",
   "metadata": {},
   "outputs": [
    {
     "name": "stdout",
     "output_type": "stream",
     "text": [
      "<class 'bool'>\n"
     ]
    }
   ],
   "source": [
    "ya_se_de_python = False\n",
    "print(type(ya_se_de_python))"
   ]
  },
  {
   "cell_type": "code",
   "execution_count": 17,
   "id": "c0150559-31b8-4def-8569-321b1c303ef7",
   "metadata": {},
   "outputs": [
    {
     "data": {
      "text/plain": [
       "False"
      ]
     },
     "execution_count": 17,
     "metadata": {},
     "output_type": "execute_result"
    }
   ],
   "source": [
    "dinerito = 5\n",
    "dinerito >= 15"
   ]
  },
  {
   "cell_type": "code",
   "execution_count": 20,
   "id": "8a1d5465-5763-424d-9c85-7da24254ca9b",
   "metadata": {},
   "outputs": [
    {
     "name": "stdout",
     "output_type": "stream",
     "text": [
      "True\n",
      "<class 'bool'>\n"
     ]
    }
   ],
   "source": [
    "dinerito = 15\n",
    "cond_1 = dinerito >= 15\n",
    "print(cond_1)\n",
    "print(type(cond_1))"
   ]
  },
  {
   "cell_type": "code",
   "execution_count": null,
   "id": "22d876fe-1501-4489-975b-7efc5155f9a5",
   "metadata": {},
   "outputs": [],
   "source": []
  }
 ],
 "metadata": {
  "kernelspec": {
   "display_name": "Python 3 (ipykernel)",
   "language": "python",
   "name": "python3"
  },
  "language_info": {
   "codemirror_mode": {
    "name": "ipython",
    "version": 3
   },
   "file_extension": ".py",
   "mimetype": "text/x-python",
   "name": "python",
   "nbconvert_exporter": "python",
   "pygments_lexer": "ipython3",
   "version": "3.13.0"
  }
 },
 "nbformat": 4,
 "nbformat_minor": 5
}
