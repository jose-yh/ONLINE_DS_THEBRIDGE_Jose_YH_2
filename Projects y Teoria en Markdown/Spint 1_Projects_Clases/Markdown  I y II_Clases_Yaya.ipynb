{
 "cells": [
  {
   "cell_type": "markdown",
   "id": "77c77065-7134-44b7-b3d4-6fa54865bd02",
   "metadata": {},
   "source": [
    "## Markdown 1 - Clases"
   ]
  },
  {
   "cell_type": "markdown",
   "id": "edd5f7fe-82bf-4030-a223-f13bcbe1f3f2",
   "metadata": {},
   "source": [
    "\n",
    "Hola"
   ]
  },
  {
   "cell_type": "markdown",
   "id": "c51720bc-41c3-492e-affd-b63422bce9bf",
   "metadata": {},
   "source": [
    "<h1>Header 1</h1>\n",
    "<h2>Header 2</h2>\n",
    "<h3>Header 3</h3>"
   ]
  },
  {
   "cell_type": "markdown",
   "id": "92505e31-c551-49b1-85bc-cea87638bcbc",
   "metadata": {},
   "source": [
    "**Texto en negrita**\n",
    "\n",
    "*Texto en cursiva*\n",
    "\n",
    "***Texto en negrita y cursiva***\n",
    "\n",
    "** No es negrita **"
   ]
  },
  {
   "cell_type": "markdown",
   "id": "fd631972-a067-408f-98b3-2b140e5da76d",
   "metadata": {},
   "source": [
    ">Recuerda la importancia del conocimiento del negocio y del dominio\n",
    ">>Y utilizar atajos de teclado"
   ]
  },
  {
   "cell_type": "markdown",
   "id": "a0b846bb-59da-4ad9-9c4a-9ce38738a6dc",
   "metadata": {},
   "source": [
    "## Markdown II - Clases"
   ]
  },
  {
   "cell_type": "markdown",
   "id": "6d3c86e7-3273-4af2-b931-4cf9b5b2c2be",
   "metadata": {},
   "source": [
    "\"En un lugar de la Mancha\"  \n",
    "\"Veinte años después frente al pelotón de fusilamiento\""
   ]
  },
  {
   "cell_type": "markdown",
   "id": "b8021559-0d83-4e4e-b447-441aed2da824",
   "metadata": {},
   "source": [
    "#### Listas ordenadas\n",
    "1. Primer elemento\n",
    "2. Segundo elemento"
   ]
  },
  {
   "cell_type": "markdown",
   "id": "21070b27-1c12-41f8-9173-f4039982842b",
   "metadata": {},
   "source": [
    "#### Lista no ordenadas\n",
    "* Elemento 1\n",
    "* Elemento 2\n",
    "- Elemento 3\n",
    "+ Elemento 4"
   ]
  },
  {
   "cell_type": "markdown",
   "id": "bee90bff-7ede-453c-844e-485c324d9695",
   "metadata": {},
   "source": [
    "#### Código Python\n",
    "```Python\n",
    "variable = \"Esto es una variable\"\n",
    "```"
   ]
  },
  {
   "cell_type": "markdown",
   "id": "3ee1bdc5-da9b-43ee-99b7-f6db40942a80",
   "metadata": {},
   "source": [
    "#### Líneas de separación\n",
    "***\n",
    "---"
   ]
  },
  {
   "cell_type": "markdown",
   "id": "20acabc4-ce0c-45f2-99e8-1d7c9632f5ed",
   "metadata": {},
   "source": [
    "#### Enlaces y Links\n",
    "##### Enlace con texto cambiado\n",
    "[enlace con texto cambiado](http://www.google.es)\n",
    "`crear enlaces externos`, a páginas web, se usa la sintaxis `[enlace] (web)`\n",
    "\n",
    "##### Links\n",
    "(#Markdown-(II))"
   ]
  },
  {
   "cell_type": "markdown",
   "id": "2b6d793b-261b-4f90-8843-af30816d1abe",
   "metadata": {},
   "source": [
    "### Imágenes\n",
    "![esta en el mismo directorio](./error.png)\n",
    "![este es un ejemplo de imagen que no esta en mi directorio](./img/error.png)\n",
    "<img src=\"./img/error.png\" width = 800>"
   ]
  },
  {
   "cell_type": "code",
   "execution_count": null,
   "id": "5a6dde3c-af80-4642-86b8-223f0eb3679f",
   "metadata": {},
   "outputs": [],
   "source": []
  }
 ],
 "metadata": {
  "kernelspec": {
   "display_name": "Python 3 (ipykernel)",
   "language": "python",
   "name": "python3"
  },
  "language_info": {
   "codemirror_mode": {
    "name": "ipython",
    "version": 3
   },
   "file_extension": ".py",
   "mimetype": "text/x-python",
   "name": "python",
   "nbconvert_exporter": "python",
   "pygments_lexer": "ipython3",
   "version": "3.13.0"
  }
 },
 "nbformat": 4,
 "nbformat_minor": 5
}
